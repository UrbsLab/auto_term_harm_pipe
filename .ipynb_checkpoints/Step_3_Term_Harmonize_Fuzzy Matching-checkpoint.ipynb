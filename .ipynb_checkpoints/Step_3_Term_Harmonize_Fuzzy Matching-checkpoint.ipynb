{
 "cells": [
  {
   "cell_type": "markdown",
   "metadata": {},
   "source": [
    "# Term Harmonize - STEP 3 : Fuzzy Matching\n",
    "#### Author: Ryan Urbanowicz (ryanurb@upenn.edu) \n",
    "#### Institution: University of Pennsylvania - Perleman School of Medicine\n",
    "#### Project: CMREF Data Harmonization \n",
    "#### Date: 9/1/21\n",
    "\n",
    "#### Project Overview:\n",
    "See the first notebook in this series ('Step_1_Term_Harmonize_Data_Preparation.ipynb') for an overview of this project, these notebooks, the target application, data availability, code dependencies, and our strategy for generalizing the code in these notebooks. \n",
    "\n",
    "#### Notebook Summary:\n",
    "This notebook is meant to perform fuzzy matching on all rows where an exact match could not be found for the term mapping. Here we again focus on finding matches between our available most specific terms in the data, and the lowest level of our chosen standard ontology (in this case, LLT of the MedDRA v21)."
   ]
  },
  {
   "cell_type": "markdown",
   "metadata": {},
   "source": [
    "***\n",
    "## Load Python packages required in this notebook"
   ]
  },
  {
   "cell_type": "code",
   "execution_count": 1,
   "metadata": {},
   "outputs": [],
   "source": [
    "#Load necessary packages.\n",
    "import pandas as pd\n",
    "import numpy as np\n",
    "from fuzzywuzzy import fuzz\n",
    "from fuzzywuzzy import process\n",
    "\n",
    "# Jupyter Notebook Hack: This code ensures that the results of multiple commands within a given cell are all displayed, rather than just the last. \n",
    "from IPython.core.interactiveshell import InteractiveShell\n",
    "InteractiveShell.ast_node_interactivity = \"all\"\n",
    "\n",
    "#Import Progress bar\n",
    "from tqdm import tnrange, tqdm_notebook"
   ]
  },
  {
   "cell_type": "markdown",
   "metadata": {},
   "source": [
    "***\n",
    "## Load Working Map File and Lowest Level (most specific) Terminology Standard File\n"
   ]
  },
  {
   "cell_type": "markdown",
   "metadata": {},
   "source": [
    "#### Create general variable names for any target application specific values."
   ]
  },
  {
   "cell_type": "code",
   "execution_count": 2,
   "metadata": {},
   "outputs": [],
   "source": [
    "# Input filename for 'target dataset' (excel file loaded in this application)\n",
    "target_study_data = 'Combined_MEDHX_TERMS_20studies.xlsx' \n",
    "\n",
    "ont_DL1_data = 'LLT.xlsx' # Input filename for ontology file defining all DL1 terms and their codes. \n",
    "ont_DL1_name_col = 'llt_name' # column label for DL1 term name\n",
    "ont_DL1_code_col ='llt_code' # column label for DL2 term code\n",
    "ont_DL1_cur_col = 'llt_currency' # column label for term currency\n",
    "ont_DL2_data = 'PT.xlsx' # Input filename for ontology file defining all DL2 terms and their codes. \n",
    "ont_DL3_DL2_data = 'HLT_PT.xlsx' # Input filename for ontology file defining connections between DL2 and DL3 term codes. \n",
    "ont_DL3_data = 'HLT.xlsx' # Input filename for ontology file defining all DL3 terms and their codes.\n",
    "ont_DL4_DL3_data = 'HLGT_HLT.xlsx' # Input filename for ontology file defining connections between DL3 and DL4 term codes. \n",
    "ont_DL4_data = 'HLGT.xlsx' # Input filename for ontology file defining all DL4 terms and their codes.\n",
    "ont_DL5_DL4_data = 'SOC_HLGT.xlsx' # Input filename for ontology file defining connections between DL4 and DL5 term codes. \n",
    "ont_DL5_data = 'SOC.xlsx' # Input filename for ontology file defining all DL5 terms and their codes.\n",
    "\n",
    "DL1_FT1 = 'MHTERM' # focus term 1: This term is available over all studies. \n",
    "DL1_FT2 = 'LLT_NAME' # focus term 3: an alternative term available for a subset of studies. This one supposedly conforms to the MedDRA standard so we expect it to yield more exact matches. May offer a better match for the lowest level of the standardized terminology.\n",
    "DL1_FT3 = 'MHMODIFY' # focus term 2: an alternative term available for a subset of studies. May offer a better match for the lowest level of the standardized terminology.\n",
    "\n",
    "DL2 = 'PT_NAME' # Secondary level terms (i.e. more general than DL1 terms)\n",
    "DL3 = 'HLT_NAME' # Tertiary level terms (i.e. more general than DL2 terms)\n",
    "DL4 = 'HLGT_NAME' # Quarternary level terms (i.e. more general than DL3 terms)\n",
    "DL5 = 'SOC_NAME' # Quinary Level terms (i.e. more general than DL4 terms)\n",
    "\n",
    "TL1_qual_code_header = 'LLT_map_code' # column name for lowest term level mapping quality code (added to mapping file)\n",
    "TL1_name_header = 'T_LLT' # column name for the 'mapped' TL1 - term name (added to mapping file)\n",
    "TL1_code_header = 'T_LLT_CODE' # column name for the 'mapped' TL1 - term code (added to mapping file)\n",
    "\n",
    "FZ1_FT1 = 'FZMatch_1_'+DL1_FT1 # column name for best FT1 fuzzy match (temporarily added to mapping file)\n",
    "FZ2_FT1 = 'FZMatch_2_'+DL1_FT1 # column name for second best FT1 fuzzy match (temporarily added to mapping file)\n",
    "FZ3_FT1 = 'FZMatch_3_'+DL1_FT1 # column name for third best FT1 fuzzy match (temporarily added to mapping file)\n",
    "FZ4_FT1 = 'FZMatch_4_'+DL1_FT1 # column name for fourth best FT1 fuzzy match (temporarily added to mapping file)\n",
    "FZ5_FT1 = 'FZMatch_5_'+DL1_FT1 # column name for fifth best FT1 fuzzy match (temporarily added to mapping file)\n",
    "\n",
    "FZMC = 'FZMatch_Choice_ID_'+DL1_FT1 #column name for the column where manual annotator will enter the number (1-5) indicating the FT1 fuzzy matched term that offers the best match (if a good one is identified)\n",
    "FZCT = 'FZMatch_Copied_Term' #column name for the column where manual annotator can alternatively manually copy in the MedDRA LLT term that best matches the term information in this row (can come from FT2 or FT3 if term was not identified in FT1)\n",
    "\n",
    "FZ1_FT2 = 'FZMatch_1_'+DL1_FT2 # column name for best FT2 fuzzy match (temporarily added to mapping file)\n",
    "FZ2_FT2 = 'FZMatch_2_'+DL1_FT2 # column name for second best FT2 fuzzy match (temporarily added to mapping file)\n",
    "FZ3_FT2 = 'FZMatch_3_'+DL1_FT2 # column name for third best FT2 fuzzy match (temporarily added to mapping file)\n",
    "FZ4_FT2 = 'FZMatch_4_'+DL1_FT2 # column name for forth best FT2 fuzzy match (temporarily added to mapping file)\n",
    "FZ5_FT2 = 'FZMatch_5_'+DL1_FT2 # column name for fifth best FT2 fuzzy match (temporarily added to mapping file)\n",
    "\n",
    "FZ1_FT3 = 'FZMatch_1_'+DL1_FT3 # column name for best FT3 fuzzy match (temporarily added to mapping file)\n",
    "FZ2_FT3 = 'FZMatch_2_'+DL1_FT3 # column name for second best FT3 fuzzy match (temporarily added to mapping file)\n",
    "FZ3_FT3 = 'FZMatch_3_'+DL1_FT3 # column name for third best FT3 fuzzy match (temporarily added to mapping file)\n",
    "FZ4_FT3 = 'FZMatch_4_'+DL1_FT3 # column name for forth best FT3 fuzzy match (temporarily added to mapping file)\n",
    "FZ5_FT3 = 'FZMatch_5_'+DL1_FT3 # column name for fifth best FT3 fuzzy match (temporarily added to mapping file)"
   ]
  },
  {
   "cell_type": "markdown",
   "metadata": {},
   "source": [
    "### Load mapping file from previous notebook"
   ]
  },
  {
   "cell_type": "code",
   "execution_count": 3,
   "metadata": {},
   "outputs": [
    {
     "data": {
      "text/plain": [
       "(28720, 11)"
      ]
     },
     "execution_count": 3,
     "metadata": {},
     "output_type": "execute_result"
    }
   ],
   "source": [
    "#Load target (tab-delimited) file into a pandas data frame\n",
    "target_map_file = 'MH_harmonization_map_2.csv' #Input filename (excel file loaded in this application)\n",
    "td = pd.read_csv(target_map_file, na_values=' ') #Data loaded so that blank excel cells are 'NA'\n",
    "td.shape"
   ]
  },
  {
   "cell_type": "markdown",
   "metadata": {},
   "source": [
    "### Load Lowest Level Terminology Standard File"
   ]
  },
  {
   "cell_type": "code",
   "execution_count": 14,
   "metadata": {
    "scrolled": true
   },
   "outputs": [
    {
     "data": {
      "text/plain": [
       "(78808, 11)"
      ]
     },
     "execution_count": 14,
     "metadata": {},
     "output_type": "execute_result"
    },
    {
     "data": {
      "text/plain": [
       "(69531, 11)"
      ]
     },
     "execution_count": 14,
     "metadata": {},
     "output_type": "execute_result"
    }
   ],
   "source": [
    "tl1 = pd.read_excel(ont_DL1_data, sep='\\t',na_values=' ')\n",
    "tl1.shape\n",
    "\n",
    "#Filter out any non-current low level terms (LLTs) \n",
    "tl1 = tl1.loc[tl1[ont_DL1_cur_col] == 'Y'] #column name is application specific.\n",
    "tl1.shape\n",
    "#Readjusts the row index values so there are no gaps in the sequence from the row removal (important for indexing later) \n",
    "tl1 = tl1.reset_index(drop=True) "
   ]
  },
  {
   "cell_type": "markdown",
   "metadata": {},
   "source": [
    "***\n",
    "## Insert New Columns\n",
    "Insert 'temporary' columns into the working map file to store the results of fuzzy matching. After the automated fuzzy matching process, 'experts' will need to manually review these fuzzy matches to select the best options out of the top fuzzy matches, or to insert an alternative standard term that failed to be found by fuzzy matching. \n",
    "\n",
    "For each DL1_FT1 and for each DL1_FT2, and DL1_FT3 (when available) we will identify the top fuzzy matches amoung DL1 (i.e. MedDRA LLTs). For DL1_FT1, new columns will store the top 5 term fuzzy matches along with a column for experts to later manually indicate the index for the best fuzzy match (i.e. 1-5), as well as a second column for an expert to instead manually copy in text identifying an alternative 'best/better' match not proposed.  This can either be from DL1_FT2, and DL1_FT3 fuzzy matching or based on the experts own selection from the TL1 term set. \n",
    "\n",
    "The confidence of a fuzzy match can be either high, medium, or 'no clear match'.  High confidence fuzzy matches will be entered into TL1_qual_code_header with code 4, and medium confidence fuzzy matches will be entered with code 5. This extends the quality coding scheme where different exact matches can have a quality code of 0-3. \n"
   ]
  },
  {
   "cell_type": "markdown",
   "metadata": {},
   "source": [
    "*To adapt this code to other tasks, users may need to specify different column indexes below. We place these new columns after the original data columns.*"
   ]
  },
  {
   "cell_type": "code",
   "execution_count": 5,
   "metadata": {},
   "outputs": [],
   "source": [
    "#Insert temporary columns to hold fuzzy matching results for DL1_FT1\n",
    "td.insert(loc=2,column=FZ1_FT1,value='') \n",
    "td.insert(loc=3,column=FZ2_FT1,value='') \n",
    "td.insert(loc=4,column=FZ3_FT1,value='') \n",
    "td.insert(loc=5,column=FZ4_FT1,value='') \n",
    "td.insert(loc=6,column=FZ5_FT1,value='') \n",
    "\n",
    "td.insert(loc=7,column=FZMC,value='') \n",
    "td.insert(loc=8,column=FZCT,value='') \n",
    "\n",
    "td.insert(loc=10,column=FZ1_FT2,value='') \n",
    "td.insert(loc=11,column=FZ2_FT2,value='') \n",
    "td.insert(loc=12,column=FZ3_FT2,value='') \n",
    "td.insert(loc=13,column=FZ4_FT2,value='') \n",
    "td.insert(loc=14,column=FZ5_FT2,value='') \n",
    "\n",
    "td.insert(loc=16,column=FZ1_FT3,value='') \n",
    "td.insert(loc=17,column=FZ2_FT3,value='') \n",
    "td.insert(loc=18,column=FZ3_FT3,value='') \n",
    "td.insert(loc=19,column=FZ4_FT3,value='') \n",
    "td.insert(loc=20,column=FZ5_FT3,value='')"
   ]
  },
  {
   "cell_type": "markdown",
   "metadata": {},
   "source": [
    "## Define a method that takes a pandas column and turns it into a list\n",
    "This is useful for simplifying the fuzzy matching code below. "
   ]
  },
  {
   "cell_type": "code",
   "execution_count": 6,
   "metadata": {},
   "outputs": [],
   "source": [
    "def listify(inList):\n",
    "    nameList = []\n",
    "    scoreList = []\n",
    "    for each in inList:\n",
    "        nameList.append(each[0])\n",
    "        scoreList.append(each[1])\n",
    "    return nameList, scoreList"
   ]
  },
  {
   "cell_type": "markdown",
   "metadata": {},
   "source": [
    "***\n",
    "## Fuzzy Matching of DL1_FT1\n",
    "Completes fuzzy matching for all DL1_FT1's where that row wasn't previously exactly matched. "
   ]
  },
  {
   "cell_type": "code",
   "execution_count": 7,
   "metadata": {},
   "outputs": [
    {
     "data": {
      "application/vnd.jupyter.widget-view+json": {
       "model_id": "6ad908711be9441580580bcce48fe9d3",
       "version_major": 2,
       "version_minor": 0
      },
      "text/plain": [
       "HBox(children=(IntProgress(value=0, description='1st loop', max=28720), HTML(value='')))"
      ]
     },
     "metadata": {},
     "output_type": "display_data"
    },
    {
     "name": "stderr",
     "output_type": "stream",
     "text": [
      "C:\\Anaconda3\\lib\\site-packages\\ipykernel_launcher.py:15: SettingWithCopyWarning: \n",
      "A value is trying to be set on a copy of a slice from a DataFrame\n",
      "\n",
      "See the caveats in the documentation: http://pandas.pydata.org/pandas-docs/stable/indexing.html#indexing-view-versus-copy\n",
      "  from ipykernel import kernelapp as app\n",
      "C:\\Anaconda3\\lib\\site-packages\\ipykernel_launcher.py:16: SettingWithCopyWarning: \n",
      "A value is trying to be set on a copy of a slice from a DataFrame\n",
      "\n",
      "See the caveats in the documentation: http://pandas.pydata.org/pandas-docs/stable/indexing.html#indexing-view-versus-copy\n",
      "  app.launch_new_instance()\n",
      "C:\\Anaconda3\\lib\\site-packages\\ipykernel_launcher.py:17: SettingWithCopyWarning: \n",
      "A value is trying to be set on a copy of a slice from a DataFrame\n",
      "\n",
      "See the caveats in the documentation: http://pandas.pydata.org/pandas-docs/stable/indexing.html#indexing-view-versus-copy\n",
      "C:\\Anaconda3\\lib\\site-packages\\ipykernel_launcher.py:18: SettingWithCopyWarning: \n",
      "A value is trying to be set on a copy of a slice from a DataFrame\n",
      "\n",
      "See the caveats in the documentation: http://pandas.pydata.org/pandas-docs/stable/indexing.html#indexing-view-versus-copy\n",
      "C:\\Anaconda3\\lib\\site-packages\\ipykernel_launcher.py:19: SettingWithCopyWarning: \n",
      "A value is trying to be set on a copy of a slice from a DataFrame\n",
      "\n",
      "See the caveats in the documentation: http://pandas.pydata.org/pandas-docs/stable/indexing.html#indexing-view-versus-copy\n"
     ]
    },
    {
     "name": "stdout",
     "output_type": "stream",
     "text": [
      "\n",
      "Exact Matches Already Completed: 21605\n",
      "Fuzzy Matches Completed: 7115\n"
     ]
    }
   ],
   "source": [
    "data_count = 0\n",
    "#-----------------\n",
    "exactMatches = 0 \n",
    "fuzzyMatches = 0\n",
    "#-----------------\n",
    "# Step through each DL1_FT1 (there should be a term value for ever row in our working map file)\n",
    "for each in tqdm_notebook(td[DL1_FT1], desc='1st loop'):\n",
    "\n",
    "    #Check that no exact match has already been found\n",
    "    if pd.isna(td[TL1_qual_code_header][data_count]): #Check for missing value - if so, run fuzzy matching \n",
    "    \n",
    "        bestFuzzyMatches = process.extract(each,tl1[ont_DL1_name_col]) # the column name reference is specific to the loaded MedDRA LLT file\n",
    "        nameList,scoreList = listify(bestFuzzyMatches)\n",
    "        \n",
    "        td[FZ1_FT1][data_count] = nameList[0]\n",
    "        td[FZ2_FT1][data_count] = nameList[1]\n",
    "        td[FZ3_FT1][data_count] = nameList[2]\n",
    "        td[FZ4_FT1][data_count] = nameList[3]\n",
    "        td[FZ5_FT1][data_count] = nameList[4]\n",
    "        \n",
    "        fuzzyMatches += 1\n",
    "        \n",
    "    else:\n",
    "        exactMatches += 1\n",
    "         \n",
    "    data_count += 1 \n",
    "                \n",
    "print('Exact Matches Already Completed: '+str(exactMatches))\n",
    "print('Fuzzy Matches Completed: '+str(fuzzyMatches))"
   ]
  },
  {
   "cell_type": "markdown",
   "metadata": {},
   "source": [
    "***\n",
    "## Save working map file\n",
    "Before moving on to the next step of the harmonization pipeline we will save our mapping file 'in progress'. Since a row index was previously added, we will set index to 'False' below.  "
   ]
  },
  {
   "cell_type": "code",
   "execution_count": 8,
   "metadata": {},
   "outputs": [],
   "source": [
    "td.to_csv(\"MH_harmonization_map_3.csv\", header=True, index=False)  "
   ]
  },
  {
   "cell_type": "markdown",
   "metadata": {},
   "source": [
    "***\n",
    "## Fuzzy Matching of DL1_FT2\n",
    "Completes fuzzy matching for all DL1_FT2's where that row wasn't previously exactly matched. "
   ]
  },
  {
   "cell_type": "code",
   "execution_count": 9,
   "metadata": {},
   "outputs": [
    {
     "data": {
      "application/vnd.jupyter.widget-view+json": {
       "model_id": "85f13ee436604de6b5c9ffc719de25b8",
       "version_major": 2,
       "version_minor": 0
      },
      "text/plain": [
       "HBox(children=(IntProgress(value=0, description='1st loop', max=28720), HTML(value='')))"
      ]
     },
     "metadata": {},
     "output_type": "display_data"
    },
    {
     "name": "stderr",
     "output_type": "stream",
     "text": [
      "C:\\Anaconda3\\lib\\site-packages\\ipykernel_launcher.py:20: SettingWithCopyWarning: \n",
      "A value is trying to be set on a copy of a slice from a DataFrame\n",
      "\n",
      "See the caveats in the documentation: http://pandas.pydata.org/pandas-docs/stable/indexing.html#indexing-view-versus-copy\n",
      "C:\\Anaconda3\\lib\\site-packages\\ipykernel_launcher.py:21: SettingWithCopyWarning: \n",
      "A value is trying to be set on a copy of a slice from a DataFrame\n",
      "\n",
      "See the caveats in the documentation: http://pandas.pydata.org/pandas-docs/stable/indexing.html#indexing-view-versus-copy\n",
      "C:\\Anaconda3\\lib\\site-packages\\ipykernel_launcher.py:22: SettingWithCopyWarning: \n",
      "A value is trying to be set on a copy of a slice from a DataFrame\n",
      "\n",
      "See the caveats in the documentation: http://pandas.pydata.org/pandas-docs/stable/indexing.html#indexing-view-versus-copy\n",
      "C:\\Anaconda3\\lib\\site-packages\\ipykernel_launcher.py:23: SettingWithCopyWarning: \n",
      "A value is trying to be set on a copy of a slice from a DataFrame\n",
      "\n",
      "See the caveats in the documentation: http://pandas.pydata.org/pandas-docs/stable/indexing.html#indexing-view-versus-copy\n",
      "C:\\Anaconda3\\lib\\site-packages\\ipykernel_launcher.py:24: SettingWithCopyWarning: \n",
      "A value is trying to be set on a copy of a slice from a DataFrame\n",
      "\n",
      "See the caveats in the documentation: http://pandas.pydata.org/pandas-docs/stable/indexing.html#indexing-view-versus-copy\n"
     ]
    },
    {
     "name": "stdout",
     "output_type": "stream",
     "text": [
      "\n",
      "Exact Matches Already Completed: 17517\n",
      "Term Value Missing: 10881\n",
      "Fuzzy Matches Completed: 322\n"
     ]
    }
   ],
   "source": [
    "#Begin by loading the saved mapping file, in progress to ensure consistency. \n",
    "td = pd.read_csv(\"MH_harmonization_map_3.csv\", na_values=' ') #Data loaded so that blank excel cells are 'NA'\n",
    "td.shape\n",
    "\n",
    "#-----------------\n",
    "exactMatches = 0 \n",
    "fuzzyMatches = 0\n",
    "#-----------------\n",
    "# Step through each DL1_FT1 (there should be a term value for ever row in our working map file)\n",
    "for each in tqdm_notebook(td[DL1_FT1], desc='1st loop'):\n",
    "\n",
    "    #Check that no exact match has already been found\n",
    "    if pd.isna(td[TL1_qual_code_header][data_count]): #Check for missing value - if so, run fuzzy matching \n",
    "    \n",
    "        bestFuzzyMatches = process.extract(each,tl1[ont_DL1_name_col]) # the column name reference is specific to the loaded MedDRA LLT file\n",
    "        nameList,scoreList = listify(bestFuzzyMatches)\n",
    "        \n",
    "        td[FZ1_FT1][data_count] = nameList[0]\n",
    "        td[FZ2_FT1][data_count] = nameList[1]\n",
    "        td[FZ3_FT1][data_count] = nameList[2]\n",
    "        td[FZ4_FT1][data_count] = nameList[3]\n",
    "        td[FZ5_FT1][data_count] = nameList[4]\n",
    "        \n",
    "        fuzzyMatches += 1\n",
    "        \n",
    "    else:\n",
    "        exactMatches += 1\n",
    "         \n",
    "    data_count += 1 \n",
    "                \n",
    "print('Exact Matches Already Completed: '+str(exactMatches))\n",
    "print('Fuzzy Matches Completed: '+str(fuzzyMatches)), na_values=' ') #Data loaded so that blank excell cells are 'NA'\n",
    "td.shape\n",
    "\n",
    "data_count = 0\n",
    "#-----------------\n",
    "exactMatches = 0\n",
    "missingTerms = 0\n",
    "fuzzyMatches = 0\n",
    "#-----------------\n",
    "# Step through each DL1_FT2 \n",
    "for each in tqdm_notebook(td[DL1_FT2], desc='1st loop'):\n",
    "    #Check if DL1_FT2 term is available for matching\n",
    "    if pd.isna(each): # No term available for fuzzy matching\n",
    "        missingTerms += 1\n",
    "        pass\n",
    "    else:\n",
    "        #Check that no exact match has already been found\n",
    "        if pd.isna(td[TL1_qual_code_header][data_count]): #Check for missing value - if so, run fuzzy matching \n",
    "\n",
    "            bestFuzzyMatches = process.extract(each,tl1[ont_DL1_name_col]) # the column name reference is specific to the loaded MedDRA LLT file\n",
    "            nameList,scoreList = listify(bestFuzzyMatches)\n",
    "\n",
    "            td[FZ1_FT2][data_count] = nameList[0]\n",
    "            td[FZ2_FT2][data_count] = nameList[1]\n",
    "            td[FZ3_FT2][data_count] = nameList[2]\n",
    "            td[FZ4_FT2][data_count] = nameList[3]\n",
    "            td[FZ5_FT2][data_count] = nameList[4]\n",
    "\n",
    "            fuzzyMatches += 1\n",
    "\n",
    "        else:\n",
    "            exactMatches += 1\n",
    "         \n",
    "    data_count += 1 \n",
    "                \n",
    "print('Exact Matches Already Completed: '+str(exactMatches))\n",
    "print('Term Value Missing: '+str(missingTerms))\n",
    "print('Fuzzy Matches Completed: '+str(fuzzyMatches))"
   ]
  },
  {
   "cell_type": "markdown",
   "metadata": {},
   "source": [
    "***\n",
    "## Save working map file\n",
    "Before moving on to the next step of the harmonization pipeline we will save our mapping file 'in progress'. Since a row index was previously added, we will set index to 'False' below.  "
   ]
  },
  {
   "cell_type": "code",
   "execution_count": 10,
   "metadata": {},
   "outputs": [],
   "source": [
    "td.to_csv(\"MH_harmonization_map_4.csv\", header=True, index=False)  "
   ]
  },
  {
   "cell_type": "markdown",
   "metadata": {},
   "source": [
    "***\n",
    "## Fuzzy Matching of DL1_FT3\n",
    "Completes fuzzy matching for all DL1_FT3's where that row wasn't previously exactly matched. "
   ]
  },
  {
   "cell_type": "code",
   "execution_count": 11,
   "metadata": {},
   "outputs": [
    {
     "data": {
      "application/vnd.jupyter.widget-view+json": {
       "model_id": "261f2db5e5454a28ae090d84b232d93d",
       "version_major": 2,
       "version_minor": 0
      },
      "text/plain": [
       "HBox(children=(IntProgress(value=0, description='1st loop', max=28720), HTML(value='')))"
      ]
     },
     "metadata": {},
     "output_type": "display_data"
    },
    {
     "name": "stderr",
     "output_type": "stream",
     "text": [
      "C:\\Anaconda3\\lib\\site-packages\\ipykernel_launcher.py:20: SettingWithCopyWarning: \n",
      "A value is trying to be set on a copy of a slice from a DataFrame\n",
      "\n",
      "See the caveats in the documentation: http://pandas.pydata.org/pandas-docs/stable/indexing.html#indexing-view-versus-copy\n",
      "C:\\Anaconda3\\lib\\site-packages\\ipykernel_launcher.py:21: SettingWithCopyWarning: \n",
      "A value is trying to be set on a copy of a slice from a DataFrame\n",
      "\n",
      "See the caveats in the documentation: http://pandas.pydata.org/pandas-docs/stable/indexing.html#indexing-view-versus-copy\n",
      "C:\\Anaconda3\\lib\\site-packages\\ipykernel_launcher.py:22: SettingWithCopyWarning: \n",
      "A value is trying to be set on a copy of a slice from a DataFrame\n",
      "\n",
      "See the caveats in the documentation: http://pandas.pydata.org/pandas-docs/stable/indexing.html#indexing-view-versus-copy\n",
      "C:\\Anaconda3\\lib\\site-packages\\ipykernel_launcher.py:23: SettingWithCopyWarning: \n",
      "A value is trying to be set on a copy of a slice from a DataFrame\n",
      "\n",
      "See the caveats in the documentation: http://pandas.pydata.org/pandas-docs/stable/indexing.html#indexing-view-versus-copy\n",
      "C:\\Anaconda3\\lib\\site-packages\\ipykernel_launcher.py:24: SettingWithCopyWarning: \n",
      "A value is trying to be set on a copy of a slice from a DataFrame\n",
      "\n",
      "See the caveats in the documentation: http://pandas.pydata.org/pandas-docs/stable/indexing.html#indexing-view-versus-copy\n"
     ]
    },
    {
     "name": "stdout",
     "output_type": "stream",
     "text": [
      "\n",
      "Exact Matches Already Completed: 14654\n",
      "Term Value Missing: 11783\n",
      "Fuzzy Matches Completed: 2283\n"
     ]
    }
   ],
   "source": [
    "#Begin by loading the saved mapping file, in progress to ensure consistency. \n",
    "td = pd.read_csv(\"MH_harmonization_map_4.csv\", na_values=' ') #Data loaded so that blank excel cells are 'NA'\n",
    "td.shape\n",
    "\n",
    "data_count = 0\n",
    "#-----------------\n",
    "exactMatches = 0\n",
    "missingTerms = 0\n",
    "fuzzyMatches = 0\n",
    "#-----------------\n",
    "# Step through each DL1_FT3 \n",
    "for each in tqdm_notebook(td[DL1_FT3], desc='1st loop'):\n",
    "    #Check if DL1_FT3 term is available for matching\n",
    "    if pd.isna(each): # No term available for fuzzy matching\n",
    "        missingTerms += 1\n",
    "        pass\n",
    "    else:\n",
    "        #Check that no exact match has already been found\n",
    "        if pd.isna(td[TL1_qual_code_header][data_count]): #Check for missing value - if so, run fuzzy matching \n",
    "\n",
    "            bestFuzzyMatches = process.extract(each,tl1[ont_DL1_name_col]) # the column name reference is specific to the loaded MedDRA LLT file\n",
    "            nameList,scoreList = listify(bestFuzzyMatches)\n",
    "\n",
    "            td[FZ1_FT3][data_count] = nameList[0]\n",
    "            td[FZ2_FT3][data_count] = nameList[1]\n",
    "            td[FZ3_FT3][data_count] = nameList[2]\n",
    "            td[FZ4_FT3][data_count] = nameList[3]\n",
    "            td[FZ5_FT3][data_count] = nameList[4]\n",
    "\n",
    "            fuzzyMatches += 1\n",
    "\n",
    "        else:\n",
    "            exactMatches += 1\n",
    "         \n",
    "    data_count += 1 \n",
    "                \n",
    "print('Exact Matches Already Completed: '+str(exactMatches))\n",
    "print('Term Value Missing: '+str(missingTerms))\n",
    "print('Fuzzy Matches Completed: '+str(fuzzyMatches))"
   ]
  },
  {
   "cell_type": "markdown",
   "metadata": {},
   "source": [
    "***\n",
    "## Save working map file\n",
    "Before moving on to the next step of the harmonization pipeline we will save our mapping file 'in progress'. Since a row index was previously added, we will set index to 'False' below.  "
   ]
  },
  {
   "cell_type": "code",
   "execution_count": 12,
   "metadata": {},
   "outputs": [],
   "source": [
    "td.to_csv(\"MH_harmonization_map_5.csv\", header=True, index=False)  "
   ]
  },
  {
   "cell_type": "markdown",
   "metadata": {},
   "source": [
    "## Notebook conclusions\n",
    "This notebook ran fuzzy matching on any row in the target data that failed to be resolved by exact matching in the previous notebook. Fuzzy matching was run on any available FT1, FT2, and FT3 terms, using the fuzzy wuzzy package in Python. Fuzzy wuzzy returns the 5 top scoring matches.  Be advised that the top scoring match is NOT necessarily the best or even a good match.  To the best of our knowledge, no fuzzy matching algorithm exists that can automatically be expected to identify the best text matches due to a variety of semantic and syntactic challenges. \n",
    "\n",
    "As a result, before we can move on to the next notebook, some manual steps need to be completed. Specifically first we took \"MH_harmonization_map_5.csv\" and removed all rows with exact matches. This left us with with a dataset with 7115 rows with fuzzy matching results. To facilitate the manual annotation process we rearranged some of the columns and added background colors to the file to highlight where the annotator needed to add the best fuzzy match indexes (FZMatch_Choice_ID_MHTERM), or instead manually copy a best fitting term match from MedDRA LLT's (FZMatch_Copied_Term). This modified file was saved as ('MH_harmonization_map_5_manual_formated.xlsx'). Lastly to distribute the burden of this manual annotation task, we split this dataset into 7 parts (each with about 1000 terms to be manually annotated, wrote up specific instructions to guide these individuals in the manual annotation task, and assigned 7 individuals to complete manual annotation using the fuzzy matching results on their subset of the terms. \n",
    "\n",
    "In the next notebook we set up a quality control pipeline to check these 7 manually annotated files, ensure they had been completed, and that any copied terms in the column (FZMatch_Copied_Term) actually existed in the MedDRA LLT file. Ultimately in the next notebook these 7 files are reintegrated back into a single working mapping file. \n"
   ]
  }
 ],
 "metadata": {
  "kernelspec": {
   "display_name": "Python 3",
   "language": "python",
   "name": "python3"
  },
  "language_info": {
   "codemirror_mode": {
    "name": "ipython",
    "version": 3
   },
   "file_extension": ".py",
   "mimetype": "text/x-python",
   "name": "python",
   "nbconvert_exporter": "python",
   "pygments_lexer": "ipython3",
   "version": "3.8.5"
  }
 },
 "nbformat": 4,
 "nbformat_minor": 2
}
