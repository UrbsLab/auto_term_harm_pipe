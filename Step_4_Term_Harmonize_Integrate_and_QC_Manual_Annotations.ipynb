{
 "cells": [
  {
   "cell_type": "markdown",
   "metadata": {},
   "source": [
    "# Term Harmonize - STEP 4 : Integrate and QC Manual Annotations\n",
    "#### Author: Ryan Urbanowicz (ryanurb@upenn.edu) \n",
    "#### Institution: University of Pennsylvania - Perleman School of Medicine\n",
    "#### Project: CMREF Data Harmonization \n",
    "#### Date: 9/1/21\n",
    "\n",
    "#### Project Overview:\n",
    "See the first notebook in this series ('Step_1_Term_Harmonize_Data_Preparation.ipynb') for an overview of this project, these notebooks, the target application, data availability, code dependencies, and our strategy for generalizing the code in these notebooks. \n",
    "\n",
    "#### Notebook Summary:\n",
    "This notebook is focused on organizing and formatting files for further downstream harmonization. \n",
    "\n",
    "At this point Fuzzy Matching has been run, and in between notebooks 3 and this one, manual annotation has been performed using predefined instructions for all terms that were not 'exactly' matched. \n",
    "\n",
    "To make this task more tractable, we first took the output file from 'Step 3' (i.e. MH_harmonization_map_5.csv) and manually created a newly formated file (with exact matches removed) for downstream manual annotation (i.e. MH_harmonization_map_5_manual_formated_unmatched.csv). The set of over 7000 terms in that file (that failed to be exactly matched) were broken up in to 7 different files to spread out this manual work over several individuals (saved to '/Manual_Term_Assignments/'. The file 'LLT_Fuzzy_Matching_Instructions' specifies the instructions provided to each human participant in this manual annotation stage of the process. Generally speaking the task was to look at the results of fuzzy matching and attempt to pick the best MedDRA standard term identified (if any). An 'annotation quality code' of 4 is used if there is a relatively clear best term match that should not require any further follow up.  A code of 5 is used if the ‘best’ chosen match is not clearly ideal, and there is reasonable uncertainty that this match is best. And lastly a code of 6 is used if no ‘best’ match could reasonably be identified from the available information.\n",
    "\n",
    "This first mannual annotation was completed by individuals that do not necessarily have expertise in medical history terminology, but whom had sufficient skill level to make reasonable determinations as to best term matches. \n",
    "\n",
    "In this notebook (step 4) we check the individual (manually annotated) term files for consistency/validity, and reintegrate the  datasets, into a single file. We summarize and report the counts of the matching quality scores.  We also create a new file that includes only terms manually assigned a score of 5 or 6.  This subset is passed on to an individual(s) with medical term expertise to go through and attempt to check terms previously assigned a score of 5, (and improve the confidence score to a 4 of deemed relevant), and attempt to assign terms with a score of 6 to some matching MedDRA term standard. \n",
    "\n",
    "Later in this notebook we take this secondary manually scoring file and reintegrate it with the set of all terms, along with their MedDRA term matches and matching quality scores.  We summarize and report the final term quality score counts following now that fuzzy matching and subsequent manual annotation have been completed, ideally minimizing the number of 6's (i.e. not matching MedDRA terms found). "
   ]
  },
  {
   "cell_type": "markdown",
   "metadata": {},
   "source": [
    "***\n",
    "## Load Python packages required in this notebook"
   ]
  },
  {
   "cell_type": "code",
   "execution_count": 1,
   "metadata": {},
   "outputs": [
    {
     "name": "stderr",
     "output_type": "stream",
     "text": [
      "C:\\Anaconda3\\lib\\importlib\\_bootstrap.py:222: RuntimeWarning: numpy.dtype size changed, may indicate binary incompatibility. Expected 96, got 88\n",
      "  return f(*args, **kwds)\n"
     ]
    }
   ],
   "source": [
    "#Load necessary packages.\n",
    "import pandas as pd\n",
    "import numpy as np\n",
    "import math\n",
    "\n",
    "# Jupyter Notebook Hack: This code ensures that the results of multiple commands within a given cell are all displayed, rather than just the last. \n",
    "from IPython.core.interactiveshell import InteractiveShell\n",
    "InteractiveShell.ast_node_interactivity = \"all\"\n",
    "\n",
    "#Import Progress bar\n",
    "from tqdm import tnrange, tqdm_notebook"
   ]
  },
  {
   "cell_type": "markdown",
   "metadata": {},
   "source": [
    "***\n",
    "## Load MedDRA LLT File"
   ]
  },
  {
   "cell_type": "markdown",
   "metadata": {},
   "source": [
    "#### Create general variable names for any target application specific values."
   ]
  },
  {
   "cell_type": "code",
   "execution_count": 2,
   "metadata": {},
   "outputs": [],
   "source": [
    "# Input filename for 'target dataset' (excel file loaded in this application)\n",
    "target_study_data = 'Combined_MEDHX_TERMS_20studies.xlsx' \n",
    "\n",
    "ont_DL1_data = 'LLT.xlsx' # Input filename for ontology file defining all DL1 terms and their codes. \n",
    "ont_DL1_name_col = 'llt_name' # column label for DL1 term name\n",
    "ont_DL1_code_col ='llt_code' # column label for DL2 term code\n",
    "ont_DL1_cur_col = 'llt_currency' # column label for term currency\n",
    "ont_DL2_data = 'PT.xlsx' # Input filename for ontology file defining all DL2 terms and their codes. \n",
    "ont_DL3_DL2_data = 'HLT_PT.xlsx' # Input filename for ontology file defining connections between DL2 and DL3 term codes. \n",
    "ont_DL3_data = 'HLT.xlsx' # Input filename for ontology file defining all DL3 terms and their codes.\n",
    "ont_DL4_DL3_data = 'HLGT_HLT.xlsx' # Input filename for ontology file defining connections between DL3 and DL4 term codes. \n",
    "ont_DL4_data = 'HLGT.xlsx' # Input filename for ontology file defining all DL4 terms and their codes.\n",
    "ont_DL5_DL4_data = 'SOC_HLGT.xlsx' # Input filename for ontology file defining connections between DL4 and DL5 term codes. \n",
    "ont_DL5_data = 'SOC.xlsx' # Input filename for ontology file defining all DL5 terms and their codes.\n",
    "\n",
    "DL1_FT1 = 'MHTERM' # focus term 1: This term is available over all studies. \n",
    "DL1_FT2 = 'LLT_NAME' # focus term 3: an alternative term available for a subset of studies. This one supposedly conforms to the MedDRA standard so we expect it to yield more exact matches. May offer a better match for the lowest level of the standardized terminology.\n",
    "DL1_FT3 = 'MHMODIFY' # focus term 2: an alternative term available for a subset of studies. May offer a better match for the lowest level of the standardized terminology.\n",
    "\n",
    "DL2 = 'PT_NAME' # Secondary level terms (i.e. more general than DL1 terms)\n",
    "DL3 = 'HLT_NAME' # Tertiary level terms (i.e. more general than DL2 terms)\n",
    "DL4 = 'HLGT_NAME' # Quarternary level terms (i.e. more general than DL3 terms)\n",
    "DL5 = 'SOC_NAME' # Quinary Level terms (i.e. more general than DL4 terms)\n",
    "\n",
    "TL1_qual_code_header = 'LLT_map_code' # column name for lowest term level mapping quality code (added to mapping file)\n",
    "TL1_name_header = 'T_LLT' # column name for the 'mapped' TL1 - term name (added to mapping file)\n",
    "TL1_code_header = 'T_LLT_CODE' # column name for the 'mapped' TL1 - term code (added to mapping file)\n",
    "\n",
    "FZ1_FT1 = 'FZMatch_1_'+DL1_FT1 # column name for best FT1 fuzzy match (temporarily added to mapping file)\n",
    "FZ2_FT1 = 'FZMatch_2_'+DL1_FT1 # column name for second best FT1 fuzzy match (temporarily added to mapping file)\n",
    "FZ3_FT1 = 'FZMatch_3_'+DL1_FT1 # column name for third best FT1 fuzzy match (temporarily added to mapping file)\n",
    "FZ4_FT1 = 'FZMatch_4_'+DL1_FT1 # column name for fourth best FT1 fuzzy match (temporarily added to mapping file)\n",
    "FZ5_FT1 = 'FZMatch_5_'+DL1_FT1 # column name for fifth best FT1 fuzzy match (temporarily added to mapping file)\n",
    "\n",
    "FZMC = 'FZMatch_Choice_ID_'+DL1_FT1 #column name for the column where manual annotator will enter the number (1-5) indicating the FT1 fuzzy matched term that offers the best match (if a good one is identified)\n",
    "FZCT = 'FZMatch_Copied_Term' #column name for the column where manual annotator can alternatively manually copy in the MedDRA LLT term that best matches the term information in this row (can come from FT2 or FT3 if term was not identified in FT1)\n",
    "\n",
    "FZ1_FT2 = 'FZMatch_1_'+DL1_FT2 # column name for best FT2 fuzzy match (temporarily added to mapping file)\n",
    "FZ2_FT2 = 'FZMatch_2_'+DL1_FT2 # column name for second best FT2 fuzzy match (temporarily added to mapping file)\n",
    "FZ3_FT2 = 'FZMatch_3_'+DL1_FT2 # column name for third best FT2 fuzzy match (temporarily added to mapping file)\n",
    "FZ4_FT2 = 'FZMatch_4_'+DL1_FT2 # column name for forth best FT2 fuzzy match (temporarily added to mapping file)\n",
    "FZ5_FT2 = 'FZMatch_5_'+DL1_FT2 # column name for fifth best FT2 fuzzy match (temporarily added to mapping file)\n",
    "\n",
    "FZ1_FT3 = 'FZMatch_1_'+DL1_FT3 # column name for best FT3 fuzzy match (temporarily added to mapping file)\n",
    "FZ2_FT3 = 'FZMatch_2_'+DL1_FT3 # column name for second best FT3 fuzzy match (temporarily added to mapping file)\n",
    "FZ3_FT3 = 'FZMatch_3_'+DL1_FT3 # column name for third best FT3 fuzzy match (temporarily added to mapping file)\n",
    "FZ4_FT3 = 'FZMatch_4_'+DL1_FT3 # column name for forth best FT3 fuzzy match (temporarily added to mapping file)\n",
    "FZ5_FT3 = 'FZMatch_5_'+DL1_FT3 # column name for fifth best FT3 fuzzy match (temporarily added to mapping file)"
   ]
  },
  {
   "cell_type": "markdown",
   "metadata": {},
   "source": [
    "### Load Lowest Level Terminology Standard File"
   ]
  },
  {
   "cell_type": "code",
   "execution_count": 14,
   "metadata": {
    "scrolled": true
   },
   "outputs": [
    {
     "data": {
      "text/plain": [
       "(78808, 11)"
      ]
     },
     "execution_count": 14,
     "metadata": {},
     "output_type": "execute_result"
    },
    {
     "data": {
      "text/plain": [
       "(69531, 11)"
      ]
     },
     "execution_count": 14,
     "metadata": {},
     "output_type": "execute_result"
    }
   ],
   "source": [
    "tl1 = pd.read_excel(ont_DL1_data, sep='\\t',na_values=' ')\n",
    "tl1.shape\n",
    "\n",
    "#Filter out any non-current low level terms (LLTs) \n",
    "tl1 = tl1.loc[tl1[ont_DL1_cur_col] == 'Y'] #column name is application specific.\n",
    "tl1.shape\n",
    "#Readjusts the row index values so there are no gaps in the sequence from the row removal (important for indexing later) \n",
    "tl1 = tl1.reset_index(drop=True) "
   ]
  },
  {
   "cell_type": "markdown",
   "metadata": {},
   "source": [
    "***\n",
    "## Quality control check\n",
    "Each of these quality control checks should be run and any error that appear should be fixed manually in the file, and the respective quality control check rerun, until the check is clean for each of the files (7 files in this case). In particular this QC check ensures that any term indexes entered manually is (1-5), and that any quality code is (4-6). Furthermore it ensures that any manually entered term exactly matches one of the terms in the MedDRA LLT file. Also ensures that if a quality code of 4 or 5 has been entered that a MedDRA LLT term has actually been mapped. "
   ]
  },
  {
   "cell_type": "code",
   "execution_count": 4,
   "metadata": {},
   "outputs": [],
   "source": [
    "#created a Python method that can be called for each dataset to perform a quality control check.\n",
    "def open_QC_split(dataname):\n",
    "    sp = pd.read_excel(dataname, sep='\\t',na_values=' ')\n",
    "    #Basic info\n",
    "    print(\"Dataset Dimensions: -----------------------------------\")\n",
    "    print(sp.shape)\n",
    "    print(\"Header: -----------------------------------\")\n",
    "    print(list(sp))\n",
    "    print(\"Missing Value Counts: ---------------------------------\")\n",
    "    print(sp.isnull().sum())\n",
    "    print(\"Unique Value Counts-: ---------------------------------\")\n",
    "    print(sp.nunique())\n",
    "    print(\"-------------------------------------------------------\")\n",
    "    \n",
    "    targetIDSet = [1,2,3,4,5]\n",
    "    targetCodeSet = [4,5,6]\n",
    "    \n",
    "    #Assess first manual annotation column - Should have an integer between 1-5 or be missing\n",
    "    row = 0\n",
    "    errorInMatchID = False\n",
    "    for cell in sp[FZMC]:\n",
    "        if math.isnan(cell):\n",
    "            pass\n",
    "        else: \n",
    "            if not cell in targetIDSet:\n",
    "                print(\"Failed Check: Value outside range: Dataset = \"+str(dataname)+ \" : Specific row: \"+ str(row))\n",
    "                errorInMatchID = True\n",
    "        row += 1\n",
    "        \n",
    "    if errorInMatchID:\n",
    "        print(\"Some MatchChoiceID error found. Resolve manually and re-run\")\n",
    "    else:\n",
    "        print(\"MatchChoiceID column confirmed.\")\n",
    "    \n",
    "    #Assess second manual annotation column - Should be a text entry that matches an entry in the LLT MedDRA standard or missing. \n",
    "    row = 0\n",
    "    errorInCopiedTerm = False\n",
    "    for cell in sp[FZCT]:\n",
    "        if not isinstance(cell, str) and math.isnan(float(cell)):\n",
    "            pass\n",
    "        else: #Check that the copied text exactly matches an entry in LLT MedDRA standard. (Confirms fidelity of manual copy and pasting)\n",
    "            # Check each term of the level 1 term standard. \n",
    "            exactmatchFound = False\n",
    "            for term in tl1[ont_DL1_name_col]: # the column name reference is specific to the loaded MedDRA LLT file\n",
    "\n",
    "                #Check for DL1_FT1 exact match\n",
    "                if str(term).casefold() == str(cell).casefold(): \n",
    "                    exactmatchFound = True\n",
    "                    break\n",
    "            if not exactmatchFound:\n",
    "                print(\"Failed Check: Exact Term NOT FOUND: Dataset = \"+str(dataname)+ \" : Specific row: \"+ str(row))\n",
    "                print(cell)\n",
    "                errorInCopiedTerm = True\n",
    "        row += 1\n",
    "        \n",
    "    if errorInCopiedTerm:\n",
    "        print(\"Some CopiedTerm error found. Resolve manually and re-run\")\n",
    "    else:\n",
    "        print(\"CopiedTerm column confirmed.\")\n",
    "    \n",
    "    #Assess third manual annotation column - Should be an integer between 4-6. No missing values allowed. \n",
    "    row = 0\n",
    "    errorInMapCode = False\n",
    "    for cell in sp[TL1_qual_code_header]:\n",
    "        if math.isnan(cell):\n",
    "            print(\"Failed Check: Missing MapCode: Dataset = \"+str(dataname)+ \" : Specific row: \"+ str(row))\n",
    "            errorInMapCode = True\n",
    "        else: \n",
    "            if not cell in targetCodeSet:\n",
    "                print(\"Failed Check: Value outside range: Dataset = \"+str(dataname)+ \" : Specific row: \"+ str(row))\n",
    "                errorInMapCode = True\n",
    "        row += 1\n",
    "        \n",
    "    if errorInMapCode:\n",
    "        print(\"Some MapCode error found. Resolve manually and re-run\")\n",
    "    else:\n",
    "        print(\"MapCode column confirmed.\")\n",
    "        \n",
    "    #Conditional Check - if 4 or 5 specified for third column, then there has to be a value inserted into either the first or second annotation column. \n",
    "    row = 0\n",
    "    errorConditionalCheck = False\n",
    "    for cell in sp[TL1_qual_code_header]:\n",
    "        if cell == 4 or cell == 5: #Term assigned\n",
    "            codePresent = False\n",
    "            termPresent = False\n",
    "            if not math.isnan(cell):\n",
    "                codePresent = True\n",
    "            if not (not isinstance(cell, str)) and math.isnan(float(cell)):\n",
    "                termPresent = True\n",
    "            \n",
    "            if not codePresent and not termPresent:\n",
    "                print(\"Failed Check: Conditional error: Dataset = \"+str(dataname)+ \" : Specific row: \"+ str(row))\n",
    "                errorConditionalCheck = True\n",
    "            \n",
    "        row += 1\n",
    "        \n",
    "    if errorConditionalCheck:\n",
    "        print(\"Some ConditionalCheck error found. Resolve manually and re-run\")\n",
    "    else:\n",
    "        print(\"ConditionalCheck column confirmed.\")"
   ]
  },
  {
   "cell_type": "markdown",
   "metadata": {},
   "source": [
    "***\n",
    "### QC File 1"
   ]
  },
  {
   "cell_type": "code",
   "execution_count": 5,
   "metadata": {
    "scrolled": true
   },
   "outputs": [
    {
     "name": "stdout",
     "output_type": "stream",
     "text": [
      "Dataset Dimensions: -----------------------------------\n",
      "(1000, 29)\n",
      "Header: -----------------------------------\n",
      "['Effort_Split', 'ROW_INDEX', 'MHTERM', 'FZMatch_1_MHTERM', 'FZMatch_2_MHTERM', 'FZMatch_3_MHTERM', 'FZMatch_4_MHTERM', 'FZMatch_5_MHTERM', 'FZMatch_Choice_ID_MHTERM', 'FZMatch_Copied_Term', 'LLT_map_code', 'MHMODIFY', 'FZMatch_1_MHMODIFY', 'FZMatch_2_MHMODIFY', 'FZMatch_3_MHMODIFY', 'FZMatch_4_MHMODIFY', 'FZMatch_5_MHMODIFY', 'LLT_NAME', 'FZMatch_1_LLT_NAME', 'FZMatch_2_LLT_NAME', 'FZMatch_3_LLT_NAME', 'FZMatch_4_LLT_NAME', 'FZMatch_5_LLT_NAME', 'PT_NAME', 'HLT_NAME', 'HLGT_NAME', 'SOC_NAME', 'T_LLT', 'T_LLT_CODE']\n",
      "Missing Value Counts: ---------------------------------\n",
      "Effort_Split                   0\n",
      "ROW_INDEX                      0\n",
      "MHTERM                         0\n",
      "FZMatch_1_MHTERM               0\n",
      "FZMatch_2_MHTERM               0\n",
      "FZMatch_3_MHTERM               0\n",
      "FZMatch_4_MHTERM               0\n",
      "FZMatch_5_MHTERM               0\n",
      "FZMatch_Choice_ID_MHTERM     263\n",
      "FZMatch_Copied_Term          895\n",
      "LLT_map_code                   0\n",
      "MHMODIFY                       7\n",
      "FZMatch_1_MHMODIFY             7\n",
      "FZMatch_2_MHMODIFY             7\n",
      "FZMatch_3_MHMODIFY             7\n",
      "FZMatch_4_MHMODIFY             7\n",
      "FZMatch_5_MHMODIFY             7\n",
      "LLT_NAME                    1000\n",
      "FZMatch_1_LLT_NAME          1000\n",
      "FZMatch_2_LLT_NAME          1000\n",
      "FZMatch_3_LLT_NAME          1000\n",
      "FZMatch_4_LLT_NAME          1000\n",
      "FZMatch_5_LLT_NAME          1000\n",
      "PT_NAME                     1000\n",
      "HLT_NAME                    1000\n",
      "HLGT_NAME                   1000\n",
      "SOC_NAME                    1000\n",
      "T_LLT                       1000\n",
      "T_LLT_CODE                  1000\n",
      "dtype: int64\n",
      "Unique Value Counts-: ---------------------------------\n",
      "Effort_Split                1000\n",
      "ROW_INDEX                   1000\n",
      "MHTERM                       999\n",
      "FZMatch_1_MHTERM             594\n",
      "FZMatch_2_MHTERM             616\n",
      "FZMatch_3_MHTERM             636\n",
      "FZMatch_4_MHTERM             667\n",
      "FZMatch_5_MHTERM             695\n",
      "FZMatch_Choice_ID_MHTERM       5\n",
      "FZMatch_Copied_Term           65\n",
      "LLT_map_code                   3\n",
      "MHMODIFY                     993\n",
      "FZMatch_1_MHMODIFY           591\n",
      "FZMatch_2_MHMODIFY           613\n",
      "FZMatch_3_MHMODIFY           632\n",
      "FZMatch_4_MHMODIFY           664\n",
      "FZMatch_5_MHMODIFY           691\n",
      "LLT_NAME                       0\n",
      "FZMatch_1_LLT_NAME             0\n",
      "FZMatch_2_LLT_NAME             0\n",
      "FZMatch_3_LLT_NAME             0\n",
      "FZMatch_4_LLT_NAME             0\n",
      "FZMatch_5_LLT_NAME             0\n",
      "PT_NAME                        0\n",
      "HLT_NAME                       0\n",
      "HLGT_NAME                      0\n",
      "SOC_NAME                       0\n",
      "T_LLT                          0\n",
      "T_LLT_CODE                     0\n",
      "dtype: int64\n",
      "-------------------------------------------------------\n",
      "MatchChoiceID column confirmed.\n",
      "CopiedTerm column confirmed.\n",
      "MapCode column confirmed.\n",
      "ConditionalCheck column confirmed.\n"
     ]
    }
   ],
   "source": [
    "data_split_1 = 'Manual_Term_Assignments/MH_harmonization_manual_1-1000_RYAN.xlsx'\n",
    "\n",
    "open_QC_split(data_split_1)"
   ]
  },
  {
   "cell_type": "markdown",
   "metadata": {},
   "source": [
    "*Application Notes: Minor fixes made to file before it passed QC.*"
   ]
  },
  {
   "cell_type": "markdown",
   "metadata": {},
   "source": [
    "***\n",
    "### QC File 2"
   ]
  },
  {
   "cell_type": "code",
   "execution_count": 6,
   "metadata": {},
   "outputs": [
    {
     "name": "stdout",
     "output_type": "stream",
     "text": [
      "Dataset Dimensions: -----------------------------------\n",
      "(1000, 29)\n",
      "Header: -----------------------------------\n",
      "['Effort_Split', 'ROW_INDEX', 'MHTERM', 'FZMatch_1_MHTERM', 'FZMatch_2_MHTERM', 'FZMatch_3_MHTERM', 'FZMatch_4_MHTERM', 'FZMatch_5_MHTERM', 'FZMatch_Choice_ID_MHTERM', 'FZMatch_Copied_Term', 'LLT_map_code', 'MHMODIFY', 'FZMatch_1_MHMODIFY', 'FZMatch_2_MHMODIFY', 'FZMatch_3_MHMODIFY', 'FZMatch_4_MHMODIFY', 'FZMatch_5_MHMODIFY', 'LLT_NAME', 'FZMatch_1_LLT_NAME', 'FZMatch_2_LLT_NAME', 'FZMatch_3_LLT_NAME', 'FZMatch_4_LLT_NAME', 'FZMatch_5_LLT_NAME', 'PT_NAME', 'HLT_NAME', 'HLGT_NAME', 'SOC_NAME', 'T_LLT', 'T_LLT_CODE']\n",
      "Missing Value Counts: ---------------------------------\n",
      "Effort_Split                   0\n",
      "ROW_INDEX                      0\n",
      "MHTERM                         0\n",
      "FZMatch_1_MHTERM               0\n",
      "FZMatch_2_MHTERM               0\n",
      "FZMatch_3_MHTERM               0\n",
      "FZMatch_4_MHTERM               0\n",
      "FZMatch_5_MHTERM               0\n",
      "FZMatch_Choice_ID_MHTERM     259\n",
      "FZMatch_Copied_Term          762\n",
      "LLT_map_code                   0\n",
      "MHMODIFY                       4\n",
      "FZMatch_1_MHMODIFY             4\n",
      "FZMatch_2_MHMODIFY             4\n",
      "FZMatch_3_MHMODIFY             4\n",
      "FZMatch_4_MHMODIFY             4\n",
      "FZMatch_5_MHMODIFY             4\n",
      "LLT_NAME                    1000\n",
      "FZMatch_1_LLT_NAME          1000\n",
      "FZMatch_2_LLT_NAME          1000\n",
      "FZMatch_3_LLT_NAME          1000\n",
      "FZMatch_4_LLT_NAME          1000\n",
      "FZMatch_5_LLT_NAME          1000\n",
      "PT_NAME                     1000\n",
      "HLT_NAME                    1000\n",
      "HLGT_NAME                   1000\n",
      "SOC_NAME                    1000\n",
      "T_LLT                       1000\n",
      "T_LLT_CODE                  1000\n",
      "dtype: int64\n",
      "Unique Value Counts-: ---------------------------------\n",
      "Effort_Split                1000\n",
      "ROW_INDEX                   1000\n",
      "MHTERM                      1000\n",
      "FZMatch_1_MHTERM             601\n",
      "FZMatch_2_MHTERM             643\n",
      "FZMatch_3_MHTERM             674\n",
      "FZMatch_4_MHTERM             683\n",
      "FZMatch_5_MHTERM             710\n",
      "FZMatch_Choice_ID_MHTERM       5\n",
      "FZMatch_Copied_Term          189\n",
      "LLT_map_code                   3\n",
      "MHMODIFY                     996\n",
      "FZMatch_1_MHMODIFY           601\n",
      "FZMatch_2_MHMODIFY           643\n",
      "FZMatch_3_MHMODIFY           671\n",
      "FZMatch_4_MHMODIFY           681\n",
      "FZMatch_5_MHMODIFY           708\n",
      "LLT_NAME                       0\n",
      "FZMatch_1_LLT_NAME             0\n",
      "FZMatch_2_LLT_NAME             0\n",
      "FZMatch_3_LLT_NAME             0\n",
      "FZMatch_4_LLT_NAME             0\n",
      "FZMatch_5_LLT_NAME             0\n",
      "PT_NAME                        0\n",
      "HLT_NAME                       0\n",
      "HLGT_NAME                      0\n",
      "SOC_NAME                       0\n",
      "T_LLT                          0\n",
      "T_LLT_CODE                     0\n",
      "dtype: int64\n",
      "-------------------------------------------------------\n",
      "MatchChoiceID column confirmed.\n",
      "CopiedTerm column confirmed.\n",
      "MapCode column confirmed.\n",
      "ConditionalCheck column confirmed.\n"
     ]
    }
   ],
   "source": [
    "data_split_2 = 'Manual_Term_Assignments/MH_harmonization_manual_1001-2000_RANDI.xlsx'\n",
    "\n",
    "open_QC_split(data_split_2)"
   ]
  },
  {
   "cell_type": "markdown",
   "metadata": {},
   "source": [
    "*Application Notes: Minor fixes made to file before it passed QC.*"
   ]
  },
  {
   "cell_type": "markdown",
   "metadata": {},
   "source": [
    "***\n",
    "### QC File 3"
   ]
  },
  {
   "cell_type": "code",
   "execution_count": 7,
   "metadata": {
    "scrolled": true
   },
   "outputs": [
    {
     "name": "stdout",
     "output_type": "stream",
     "text": [
      "Dataset Dimensions: -----------------------------------\n",
      "(1000, 29)\n",
      "Header: -----------------------------------\n",
      "['Effort_Split', 'ROW_INDEX', 'MHTERM', 'FZMatch_1_MHTERM', 'FZMatch_2_MHTERM', 'FZMatch_3_MHTERM', 'FZMatch_4_MHTERM', 'FZMatch_5_MHTERM', 'FZMatch_Choice_ID_MHTERM', 'FZMatch_Copied_Term', 'LLT_map_code', 'MHMODIFY', 'FZMatch_1_MHMODIFY', 'FZMatch_2_MHMODIFY', 'FZMatch_3_MHMODIFY', 'FZMatch_4_MHMODIFY', 'FZMatch_5_MHMODIFY', 'LLT_NAME', 'FZMatch_1_LLT_NAME', 'FZMatch_2_LLT_NAME', 'FZMatch_3_LLT_NAME', 'FZMatch_4_LLT_NAME', 'FZMatch_5_LLT_NAME', 'PT_NAME', 'HLT_NAME', 'HLGT_NAME', 'SOC_NAME', 'T_LLT', 'T_LLT_CODE']\n",
      "Missing Value Counts: ---------------------------------\n",
      "Effort_Split                   0\n",
      "ROW_INDEX                      0\n",
      "MHTERM                         0\n",
      "FZMatch_1_MHTERM               0\n",
      "FZMatch_2_MHTERM               0\n",
      "FZMatch_3_MHTERM               0\n",
      "FZMatch_4_MHTERM               0\n",
      "FZMatch_5_MHTERM               0\n",
      "FZMatch_Choice_ID_MHTERM     301\n",
      "FZMatch_Copied_Term          742\n",
      "LLT_map_code                   0\n",
      "MHMODIFY                     764\n",
      "FZMatch_1_MHMODIFY           764\n",
      "FZMatch_2_MHMODIFY           764\n",
      "FZMatch_3_MHMODIFY           764\n",
      "FZMatch_4_MHMODIFY           764\n",
      "FZMatch_5_MHMODIFY           764\n",
      "LLT_NAME                    1000\n",
      "FZMatch_1_LLT_NAME          1000\n",
      "FZMatch_2_LLT_NAME          1000\n",
      "FZMatch_3_LLT_NAME          1000\n",
      "FZMatch_4_LLT_NAME          1000\n",
      "FZMatch_5_LLT_NAME          1000\n",
      "PT_NAME                      999\n",
      "HLT_NAME                     999\n",
      "HLGT_NAME                    999\n",
      "SOC_NAME                     236\n",
      "T_LLT                       1000\n",
      "T_LLT_CODE                  1000\n",
      "dtype: int64\n",
      "Unique Value Counts-: ---------------------------------\n",
      "Effort_Split                1000\n",
      "ROW_INDEX                   1000\n",
      "MHTERM                       986\n",
      "FZMatch_1_MHTERM             599\n",
      "FZMatch_2_MHTERM             650\n",
      "FZMatch_3_MHTERM             680\n",
      "FZMatch_4_MHTERM             720\n",
      "FZMatch_5_MHTERM             751\n",
      "FZMatch_Choice_ID_MHTERM       5\n",
      "FZMatch_Copied_Term          128\n",
      "LLT_map_code                   3\n",
      "MHMODIFY                     236\n",
      "FZMatch_1_MHMODIFY           185\n",
      "FZMatch_2_MHMODIFY           198\n",
      "FZMatch_3_MHMODIFY           199\n",
      "FZMatch_4_MHMODIFY           208\n",
      "FZMatch_5_MHMODIFY           204\n",
      "LLT_NAME                       0\n",
      "FZMatch_1_LLT_NAME             0\n",
      "FZMatch_2_LLT_NAME             0\n",
      "FZMatch_3_LLT_NAME             0\n",
      "FZMatch_4_LLT_NAME             0\n",
      "FZMatch_5_LLT_NAME             0\n",
      "PT_NAME                        1\n",
      "HLT_NAME                       1\n",
      "HLGT_NAME                      1\n",
      "SOC_NAME                      14\n",
      "T_LLT                          0\n",
      "T_LLT_CODE                     0\n",
      "dtype: int64\n",
      "-------------------------------------------------------\n",
      "MatchChoiceID column confirmed.\n",
      "CopiedTerm column confirmed.\n",
      "MapCode column confirmed.\n",
      "ConditionalCheck column confirmed.\n"
     ]
    }
   ],
   "source": [
    "data_split_3 = 'Manual_Term_Assignments/MH_harmonization_manual_2001-3000_MAMTA_RyanFix.xlsx'\n",
    "\n",
    "open_QC_split(data_split_3)"
   ]
  },
  {
   "cell_type": "markdown",
   "metadata": {},
   "source": [
    "*Application Notes: Had to remove many manually inserted terms that should not have been in the middle column.  Assumed that all with no white background were not supposed to be there.  I went through and manually deleted all of these before QC passed.*"
   ]
  },
  {
   "cell_type": "markdown",
   "metadata": {},
   "source": [
    "***\n",
    "### QC File 4"
   ]
  },
  {
   "cell_type": "code",
   "execution_count": 8,
   "metadata": {},
   "outputs": [
    {
     "name": "stdout",
     "output_type": "stream",
     "text": [
      "Dataset Dimensions: -----------------------------------\n",
      "(1000, 29)\n",
      "Header: -----------------------------------\n",
      "['Effort_Split', 'ROW_INDEX', 'MHTERM', 'FZMatch_1_MHTERM', 'FZMatch_2_MHTERM', 'FZMatch_3_MHTERM', 'FZMatch_4_MHTERM', 'FZMatch_5_MHTERM', 'FZMatch_Choice_ID_MHTERM', 'FZMatch_Copied_Term', 'LLT_map_code', 'MHMODIFY', 'FZMatch_1_MHMODIFY', 'FZMatch_2_MHMODIFY', 'FZMatch_3_MHMODIFY', 'FZMatch_4_MHMODIFY', 'FZMatch_5_MHMODIFY', 'LLT_NAME', 'FZMatch_1_LLT_NAME', 'FZMatch_2_LLT_NAME', 'FZMatch_3_LLT_NAME', 'FZMatch_4_LLT_NAME', 'FZMatch_5_LLT_NAME', 'PT_NAME', 'HLT_NAME', 'HLGT_NAME', 'SOC_NAME', 'T_LLT', 'T_LLT_CODE']\n",
      "Missing Value Counts: ---------------------------------\n",
      "Effort_Split                   0\n",
      "ROW_INDEX                      0\n",
      "MHTERM                         0\n",
      "FZMatch_1_MHTERM               0\n",
      "FZMatch_2_MHTERM               0\n",
      "FZMatch_3_MHTERM               0\n",
      "FZMatch_4_MHTERM               0\n",
      "FZMatch_5_MHTERM               0\n",
      "FZMatch_Choice_ID_MHTERM     335\n",
      "FZMatch_Copied_Term          823\n",
      "LLT_map_code                   0\n",
      "MHMODIFY                    1000\n",
      "FZMatch_1_MHMODIFY          1000\n",
      "FZMatch_2_MHMODIFY          1000\n",
      "FZMatch_3_MHMODIFY          1000\n",
      "FZMatch_4_MHMODIFY          1000\n",
      "FZMatch_5_MHMODIFY          1000\n",
      "LLT_NAME                    1000\n",
      "FZMatch_1_LLT_NAME          1000\n",
      "FZMatch_2_LLT_NAME          1000\n",
      "FZMatch_3_LLT_NAME          1000\n",
      "FZMatch_4_LLT_NAME          1000\n",
      "FZMatch_5_LLT_NAME          1000\n",
      "PT_NAME                     1000\n",
      "HLT_NAME                    1000\n",
      "HLGT_NAME                   1000\n",
      "SOC_NAME                       0\n",
      "T_LLT                       1000\n",
      "T_LLT_CODE                  1000\n",
      "dtype: int64\n",
      "Unique Value Counts-: ---------------------------------\n",
      "Effort_Split                1000\n",
      "ROW_INDEX                   1000\n",
      "MHTERM                       989\n",
      "FZMatch_1_MHTERM             596\n",
      "FZMatch_2_MHTERM             644\n",
      "FZMatch_3_MHTERM             663\n",
      "FZMatch_4_MHTERM             688\n",
      "FZMatch_5_MHTERM             703\n",
      "FZMatch_Choice_ID_MHTERM       5\n",
      "FZMatch_Copied_Term          110\n",
      "LLT_map_code                   3\n",
      "MHMODIFY                       0\n",
      "FZMatch_1_MHMODIFY             0\n",
      "FZMatch_2_MHMODIFY             0\n",
      "FZMatch_3_MHMODIFY             0\n",
      "FZMatch_4_MHMODIFY             0\n",
      "FZMatch_5_MHMODIFY             0\n",
      "LLT_NAME                       0\n",
      "FZMatch_1_LLT_NAME             0\n",
      "FZMatch_2_LLT_NAME             0\n",
      "FZMatch_3_LLT_NAME             0\n",
      "FZMatch_4_LLT_NAME             0\n",
      "FZMatch_5_LLT_NAME             0\n",
      "PT_NAME                        0\n",
      "HLT_NAME                       0\n",
      "HLGT_NAME                      0\n",
      "SOC_NAME                      36\n",
      "T_LLT                          0\n",
      "T_LLT_CODE                     0\n",
      "dtype: int64\n",
      "-------------------------------------------------------\n",
      "MatchChoiceID column confirmed.\n",
      "CopiedTerm column confirmed.\n",
      "MapCode column confirmed.\n",
      "ConditionalCheck column confirmed.\n"
     ]
    }
   ],
   "source": [
    "data_split_4 = 'Manual_Term_Assignments/MH_harmonization_manual_3001-4000_DI.xlsx'\n",
    "\n",
    "open_QC_split(data_split_4)"
   ]
  },
  {
   "cell_type": "markdown",
   "metadata": {},
   "source": [
    "*Application Notes: Minor fixes made to file before it passed QC.*"
   ]
  },
  {
   "cell_type": "markdown",
   "metadata": {},
   "source": [
    "***\n",
    "### QC File 5"
   ]
  },
  {
   "cell_type": "code",
   "execution_count": 9,
   "metadata": {},
   "outputs": [
    {
     "name": "stdout",
     "output_type": "stream",
     "text": [
      "Dataset Dimensions: -----------------------------------\n",
      "(1000, 29)\n",
      "Header: -----------------------------------\n",
      "['Effort_Split', 'ROW_INDEX', 'MHTERM', 'FZMatch_1_MHTERM', 'FZMatch_2_MHTERM', 'FZMatch_3_MHTERM', 'FZMatch_4_MHTERM', 'FZMatch_5_MHTERM', 'FZMatch_Choice_ID_MHTERM', 'FZMatch_Copied_Term', 'LLT_map_code', 'MHMODIFY', 'FZMatch_1_MHMODIFY', 'FZMatch_2_MHMODIFY', 'FZMatch_3_MHMODIFY', 'FZMatch_4_MHMODIFY', 'FZMatch_5_MHMODIFY', 'LLT_NAME', 'FZMatch_1_LLT_NAME', 'FZMatch_2_LLT_NAME', 'FZMatch_3_LLT_NAME', 'FZMatch_4_LLT_NAME', 'FZMatch_5_LLT_NAME', 'PT_NAME', 'HLT_NAME', 'HLGT_NAME', 'SOC_NAME', 'T_LLT', 'T_LLT_CODE']\n",
      "Missing Value Counts: ---------------------------------\n",
      "Effort_Split                   0\n",
      "ROW_INDEX                      0\n",
      "MHTERM                         0\n",
      "FZMatch_1_MHTERM               0\n",
      "FZMatch_2_MHTERM               0\n",
      "FZMatch_3_MHTERM               0\n",
      "FZMatch_4_MHTERM               0\n",
      "FZMatch_5_MHTERM               0\n",
      "FZMatch_Choice_ID_MHTERM     448\n",
      "FZMatch_Copied_Term          676\n",
      "LLT_map_code                   0\n",
      "MHMODIFY                    1000\n",
      "FZMatch_1_MHMODIFY          1000\n",
      "FZMatch_2_MHMODIFY          1000\n",
      "FZMatch_3_MHMODIFY          1000\n",
      "FZMatch_4_MHMODIFY          1000\n",
      "FZMatch_5_MHMODIFY          1000\n",
      "LLT_NAME                    1000\n",
      "FZMatch_1_LLT_NAME          1000\n",
      "FZMatch_2_LLT_NAME          1000\n",
      "FZMatch_3_LLT_NAME          1000\n",
      "FZMatch_4_LLT_NAME          1000\n",
      "FZMatch_5_LLT_NAME          1000\n",
      "PT_NAME                     1000\n",
      "HLT_NAME                    1000\n",
      "HLGT_NAME                   1000\n",
      "SOC_NAME                       1\n",
      "T_LLT                       1000\n",
      "T_LLT_CODE                  1000\n",
      "dtype: int64\n",
      "Unique Value Counts-: ---------------------------------\n",
      "Effort_Split                1000\n",
      "ROW_INDEX                   1000\n",
      "MHTERM                       979\n",
      "FZMatch_1_MHTERM             596\n",
      "FZMatch_2_MHTERM             632\n",
      "FZMatch_3_MHTERM             658\n",
      "FZMatch_4_MHTERM             666\n",
      "FZMatch_5_MHTERM             695\n",
      "FZMatch_Choice_ID_MHTERM       5\n",
      "FZMatch_Copied_Term          225\n",
      "LLT_map_code                   3\n",
      "MHMODIFY                       0\n",
      "FZMatch_1_MHMODIFY             0\n",
      "FZMatch_2_MHMODIFY             0\n",
      "FZMatch_3_MHMODIFY             0\n",
      "FZMatch_4_MHMODIFY             0\n",
      "FZMatch_5_MHMODIFY             0\n",
      "LLT_NAME                       0\n",
      "FZMatch_1_LLT_NAME             0\n",
      "FZMatch_2_LLT_NAME             0\n",
      "FZMatch_3_LLT_NAME             0\n",
      "FZMatch_4_LLT_NAME             0\n",
      "FZMatch_5_LLT_NAME             0\n",
      "PT_NAME                        0\n",
      "HLT_NAME                       0\n",
      "HLGT_NAME                      0\n",
      "SOC_NAME                      29\n",
      "T_LLT                          0\n",
      "T_LLT_CODE                     0\n",
      "dtype: int64\n",
      "-------------------------------------------------------\n",
      "MatchChoiceID column confirmed.\n",
      "CopiedTerm column confirmed.\n",
      "MapCode column confirmed.\n",
      "ConditionalCheck column confirmed.\n"
     ]
    }
   ],
   "source": [
    "data_split_5 = 'Manual_Term_Assignments/MH_harmonization_manual_4001-5000_KATE_Nyra.xlsx'\n",
    "\n",
    "open_QC_split(data_split_5)"
   ]
  },
  {
   "cell_type": "markdown",
   "metadata": {},
   "source": [
    "*Application Notes: Minor fixes made to file before it passed QC.*"
   ]
  },
  {
   "cell_type": "markdown",
   "metadata": {},
   "source": [
    "***\n",
    "### QC File 6"
   ]
  },
  {
   "cell_type": "code",
   "execution_count": 10,
   "metadata": {
    "scrolled": true
   },
   "outputs": [
    {
     "name": "stdout",
     "output_type": "stream",
     "text": [
      "Dataset Dimensions: -----------------------------------\n",
      "(1000, 29)\n",
      "Header: -----------------------------------\n",
      "['Effort_Split', 'ROW_INDEX', 'MHTERM', 'FZMatch_1_MHTERM', 'FZMatch_2_MHTERM', 'FZMatch_3_MHTERM', 'FZMatch_4_MHTERM', 'FZMatch_5_MHTERM', 'FZMatch_Choice_ID_MHTERM', 'FZMatch_Copied_Term', 'LLT_map_code', 'MHMODIFY', 'FZMatch_1_MHMODIFY', 'FZMatch_2_MHMODIFY', 'FZMatch_3_MHMODIFY', 'FZMatch_4_MHMODIFY', 'FZMatch_5_MHMODIFY', 'LLT_NAME', 'FZMatch_1_LLT_NAME', 'FZMatch_2_LLT_NAME', 'FZMatch_3_LLT_NAME', 'FZMatch_4_LLT_NAME', 'FZMatch_5_LLT_NAME', 'PT_NAME', 'HLT_NAME', 'HLGT_NAME', 'SOC_NAME', 'T_LLT', 'T_LLT_CODE']\n",
      "Missing Value Counts: ---------------------------------\n",
      "Effort_Split                   0\n",
      "ROW_INDEX                      0\n",
      "MHTERM                         0\n",
      "FZMatch_1_MHTERM               0\n",
      "FZMatch_2_MHTERM               0\n",
      "FZMatch_3_MHTERM               0\n",
      "FZMatch_4_MHTERM               0\n",
      "FZMatch_5_MHTERM               0\n",
      "FZMatch_Choice_ID_MHTERM     300\n",
      "FZMatch_Copied_Term          780\n",
      "LLT_map_code                   0\n",
      "MHMODIFY                    1000\n",
      "FZMatch_1_MHMODIFY          1000\n",
      "FZMatch_2_MHMODIFY          1000\n",
      "FZMatch_3_MHMODIFY          1000\n",
      "FZMatch_4_MHMODIFY          1000\n",
      "FZMatch_5_MHMODIFY          1000\n",
      "LLT_NAME                    1000\n",
      "FZMatch_1_LLT_NAME          1000\n",
      "FZMatch_2_LLT_NAME          1000\n",
      "FZMatch_3_LLT_NAME          1000\n",
      "FZMatch_4_LLT_NAME          1000\n",
      "FZMatch_5_LLT_NAME          1000\n",
      "PT_NAME                     1000\n",
      "HLT_NAME                    1000\n",
      "HLGT_NAME                   1000\n",
      "SOC_NAME                       1\n",
      "T_LLT                       1000\n",
      "T_LLT_CODE                  1000\n",
      "dtype: int64\n",
      "Unique Value Counts-: ---------------------------------\n",
      "Effort_Split                1000\n",
      "ROW_INDEX                   1000\n",
      "MHTERM                       978\n",
      "FZMatch_1_MHTERM             607\n",
      "FZMatch_2_MHTERM             633\n",
      "FZMatch_3_MHTERM             658\n",
      "FZMatch_4_MHTERM             675\n",
      "FZMatch_5_MHTERM             715\n",
      "FZMatch_Choice_ID_MHTERM       5\n",
      "FZMatch_Copied_Term          161\n",
      "LLT_map_code                   3\n",
      "MHMODIFY                       0\n",
      "FZMatch_1_MHMODIFY             0\n",
      "FZMatch_2_MHMODIFY             0\n",
      "FZMatch_3_MHMODIFY             0\n",
      "FZMatch_4_MHMODIFY             0\n",
      "FZMatch_5_MHMODIFY             0\n",
      "LLT_NAME                       0\n",
      "FZMatch_1_LLT_NAME             0\n",
      "FZMatch_2_LLT_NAME             0\n",
      "FZMatch_3_LLT_NAME             0\n",
      "FZMatch_4_LLT_NAME             0\n",
      "FZMatch_5_LLT_NAME             0\n",
      "PT_NAME                        0\n",
      "HLT_NAME                       0\n",
      "HLGT_NAME                      0\n",
      "SOC_NAME                      33\n",
      "T_LLT                          0\n",
      "T_LLT_CODE                     0\n",
      "dtype: int64\n",
      "-------------------------------------------------------\n",
      "MatchChoiceID column confirmed.\n",
      "CopiedTerm column confirmed.\n",
      "MapCode column confirmed.\n",
      "ConditionalCheck column confirmed.\n"
     ]
    }
   ],
   "source": [
    "data_split_6 = 'Manual_Term_Assignments/MH_harmonization_manual_5001-6000_ALIZA.xlsx'\n",
    "\n",
    "open_QC_split(data_split_6)"
   ]
  },
  {
   "cell_type": "markdown",
   "metadata": {},
   "source": [
    "*Application Notes: Minor fixes made to file before it passed QC.*"
   ]
  },
  {
   "cell_type": "markdown",
   "metadata": {},
   "source": [
    "***\n",
    "### QC File 7"
   ]
  },
  {
   "cell_type": "code",
   "execution_count": 11,
   "metadata": {},
   "outputs": [
    {
     "name": "stdout",
     "output_type": "stream",
     "text": [
      "Dataset Dimensions: -----------------------------------\n",
      "(1115, 29)\n",
      "Header: -----------------------------------\n",
      "['Effort_Split', 'ROW_INDEX', 'MHTERM', 'FZMatch_1_MHTERM', 'FZMatch_2_MHTERM', 'FZMatch_3_MHTERM', 'FZMatch_4_MHTERM', 'FZMatch_5_MHTERM', 'FZMatch_Choice_ID_MHTERM', 'FZMatch_Copied_Term', 'LLT_map_code', 'MHMODIFY', 'FZMatch_1_MHMODIFY', 'FZMatch_2_MHMODIFY', 'FZMatch_3_MHMODIFY', 'FZMatch_4_MHMODIFY', 'FZMatch_5_MHMODIFY', 'LLT_NAME', 'FZMatch_1_LLT_NAME', 'FZMatch_2_LLT_NAME', 'FZMatch_3_LLT_NAME', 'FZMatch_4_LLT_NAME', 'FZMatch_5_LLT_NAME', 'PT_NAME', 'HLT_NAME', 'HLGT_NAME', 'SOC_NAME', 'T_LLT', 'T_LLT_CODE']\n",
      "Missing Value Counts: ---------------------------------\n",
      "Effort_Split                   0\n",
      "ROW_INDEX                      0\n",
      "MHTERM                         0\n",
      "FZMatch_1_MHTERM               0\n",
      "FZMatch_2_MHTERM               0\n",
      "FZMatch_3_MHTERM               0\n",
      "FZMatch_4_MHTERM               0\n",
      "FZMatch_5_MHTERM               0\n",
      "FZMatch_Choice_ID_MHTERM     390\n",
      "FZMatch_Copied_Term          941\n",
      "LLT_map_code                   0\n",
      "MHMODIFY                    1057\n",
      "FZMatch_1_MHMODIFY          1057\n",
      "FZMatch_2_MHMODIFY          1057\n",
      "FZMatch_3_MHMODIFY          1057\n",
      "FZMatch_4_MHMODIFY          1057\n",
      "FZMatch_5_MHMODIFY          1057\n",
      "LLT_NAME                     793\n",
      "FZMatch_1_LLT_NAME           793\n",
      "FZMatch_2_LLT_NAME           793\n",
      "FZMatch_3_LLT_NAME           793\n",
      "FZMatch_4_LLT_NAME           793\n",
      "FZMatch_5_LLT_NAME           793\n",
      "PT_NAME                      793\n",
      "HLT_NAME                     833\n",
      "HLGT_NAME                    833\n",
      "SOC_NAME                      10\n",
      "T_LLT                       1115\n",
      "T_LLT_CODE                  1115\n",
      "dtype: int64\n",
      "Unique Value Counts-: ---------------------------------\n",
      "Effort_Split                1115\n",
      "ROW_INDEX                   1115\n",
      "MHTERM                      1089\n",
      "FZMatch_1_MHTERM             603\n",
      "FZMatch_2_MHTERM             629\n",
      "FZMatch_3_MHTERM             681\n",
      "FZMatch_4_MHTERM             692\n",
      "FZMatch_5_MHTERM             728\n",
      "FZMatch_Choice_ID_MHTERM       5\n",
      "FZMatch_Copied_Term           74\n",
      "LLT_map_code                   3\n",
      "MHMODIFY                      58\n",
      "FZMatch_1_MHMODIFY            47\n",
      "FZMatch_2_MHMODIFY            55\n",
      "FZMatch_3_MHMODIFY            56\n",
      "FZMatch_4_MHMODIFY            57\n",
      "FZMatch_5_MHMODIFY            57\n",
      "LLT_NAME                     110\n",
      "FZMatch_1_LLT_NAME           105\n",
      "FZMatch_2_LLT_NAME            96\n",
      "FZMatch_3_LLT_NAME            91\n",
      "FZMatch_4_LLT_NAME            92\n",
      "FZMatch_5_LLT_NAME            93\n",
      "PT_NAME                       90\n",
      "HLT_NAME                      61\n",
      "HLGT_NAME                     46\n",
      "SOC_NAME                      57\n",
      "T_LLT                          0\n",
      "T_LLT_CODE                     0\n",
      "dtype: int64\n",
      "-------------------------------------------------------\n",
      "MatchChoiceID column confirmed.\n",
      "CopiedTerm column confirmed.\n",
      "MapCode column confirmed.\n",
      "ConditionalCheck column confirmed.\n"
     ]
    }
   ],
   "source": [
    "#data_split_7 = 'Manual_Term_Assignments/MH_harmonization_manual_6001-7115_Nyra_Ryan_Fix.xlsx' #Early version of mapping file -had to be redone due to a number of issues. \n",
    "data_split_7 = 'Manual_Term_Assignments/MH_harmonization_manual_6001-7115 NW_MF_20190520_Ryan_Fix.xlsx'\n",
    "\n",
    "open_QC_split(data_split_7)"
   ]
  },
  {
   "cell_type": "markdown",
   "metadata": {},
   "source": [
    "*Application Notes: Clear that directions were not followed.  Many rows with no annotations made had a quality code of 4 applied. Also some header names were changed and columns hidden.  I went back and manually fixed all of this. This annotator also very rarely used code 5, which leads me to be suspicious of the quality of the many code 4's applied. Overall, I have lower confidence in this set of annotations. So we went back and had a more experienced annotator review everything and create a new annoted file.* "
   ]
  },
  {
   "cell_type": "markdown",
   "metadata": {},
   "source": [
    "## Integrate separate datasets into combined file"
   ]
  },
  {
   "cell_type": "code",
   "execution_count": 12,
   "metadata": {
    "scrolled": true
   },
   "outputs": [
    {
     "name": "stdout",
     "output_type": "stream",
     "text": [
      "Dataset Dimensions: -----------------------------------\n",
      "(7115, 29)\n",
      "Header: -----------------------------------\n",
      "['Effort_Split', 'ROW_INDEX', 'MHTERM', 'FZMatch_1_MHTERM', 'FZMatch_2_MHTERM', 'FZMatch_3_MHTERM', 'FZMatch_4_MHTERM', 'FZMatch_5_MHTERM', 'FZMatch_Choice_ID_MHTERM', 'FZMatch_Copied_Term', 'LLT_map_code', 'MHMODIFY', 'FZMatch_1_MHMODIFY', 'FZMatch_2_MHMODIFY', 'FZMatch_3_MHMODIFY', 'FZMatch_4_MHMODIFY', 'FZMatch_5_MHMODIFY', 'LLT_NAME', 'FZMatch_1_LLT_NAME', 'FZMatch_2_LLT_NAME', 'FZMatch_3_LLT_NAME', 'FZMatch_4_LLT_NAME', 'FZMatch_5_LLT_NAME', 'PT_NAME', 'HLT_NAME', 'HLGT_NAME', 'SOC_NAME', 'T_LLT', 'T_LLT_CODE']\n",
      "Missing Value Counts: ---------------------------------\n",
      "Effort_Split                   0\n",
      "ROW_INDEX                      0\n",
      "MHTERM                         0\n",
      "FZMatch_1_MHTERM               0\n",
      "FZMatch_2_MHTERM               0\n",
      "FZMatch_3_MHTERM               0\n",
      "FZMatch_4_MHTERM               0\n",
      "FZMatch_5_MHTERM               0\n",
      "FZMatch_Choice_ID_MHTERM    2296\n",
      "FZMatch_Copied_Term         5619\n",
      "LLT_map_code                   0\n",
      "MHMODIFY                    4832\n",
      "FZMatch_1_MHMODIFY          4832\n",
      "FZMatch_2_MHMODIFY          4832\n",
      "FZMatch_3_MHMODIFY          4832\n",
      "FZMatch_4_MHMODIFY          4832\n",
      "FZMatch_5_MHMODIFY          4832\n",
      "LLT_NAME                    6793\n",
      "FZMatch_1_LLT_NAME          6793\n",
      "FZMatch_2_LLT_NAME          6793\n",
      "FZMatch_3_LLT_NAME          6793\n",
      "FZMatch_4_LLT_NAME          6793\n",
      "FZMatch_5_LLT_NAME          6793\n",
      "PT_NAME                     6792\n",
      "HLT_NAME                    6832\n",
      "HLGT_NAME                   6832\n",
      "SOC_NAME                    2248\n",
      "T_LLT                       7115\n",
      "T_LLT_CODE                  7115\n",
      "dtype: int64\n",
      "Unique Value Counts-: ---------------------------------\n",
      "Effort_Split                7115\n",
      "ROW_INDEX                   7115\n",
      "MHTERM                      6835\n",
      "FZMatch_1_MHTERM            2257\n",
      "FZMatch_2_MHTERM            2485\n",
      "FZMatch_3_MHTERM            2585\n",
      "FZMatch_4_MHTERM            2728\n",
      "FZMatch_5_MHTERM            2919\n",
      "FZMatch_Choice_ID_MHTERM       5\n",
      "FZMatch_Copied_Term          790\n",
      "LLT_map_code                   3\n",
      "MHMODIFY                    2280\n",
      "FZMatch_1_MHMODIFY          1085\n",
      "FZMatch_2_MHMODIFY          1139\n",
      "FZMatch_3_MHMODIFY          1182\n",
      "FZMatch_4_MHMODIFY          1245\n",
      "FZMatch_5_MHMODIFY          1297\n",
      "LLT_NAME                     110\n",
      "FZMatch_1_LLT_NAME           105\n",
      "FZMatch_2_LLT_NAME            96\n",
      "FZMatch_3_LLT_NAME            91\n",
      "FZMatch_4_LLT_NAME            92\n",
      "FZMatch_5_LLT_NAME            93\n",
      "PT_NAME                       90\n",
      "HLT_NAME                      62\n",
      "HLGT_NAME                     47\n",
      "SOC_NAME                      91\n",
      "T_LLT                          0\n",
      "T_LLT_CODE                     0\n",
      "dtype: int64\n",
      "-------------------------------------------------------\n"
     ]
    }
   ],
   "source": [
    "sp1 = pd.read_excel(data_split_1, sep='\\t',na_values=' ')\n",
    "sp2 = pd.read_excel(data_split_2, sep='\\t',na_values=' ')\n",
    "sp3 = pd.read_excel(data_split_3, sep='\\t',na_values=' ')\n",
    "sp4 = pd.read_excel(data_split_4, sep='\\t',na_values=' ')\n",
    "sp5 = pd.read_excel(data_split_5, sep='\\t',na_values=' ')\n",
    "sp6 = pd.read_excel(data_split_6, sep='\\t',na_values=' ')\n",
    "sp7 = pd.read_excel(data_split_7, sep='\\t',na_values=' ')\n",
    "\n",
    "frames = [sp1, sp2, sp3, sp4, sp5, sp6, sp7]\n",
    "\n",
    "df = pd.concat(frames)\n",
    "#Basic info\n",
    "print(\"Dataset Dimensions: -----------------------------------\")\n",
    "print(df.shape)\n",
    "print(\"Header: -----------------------------------\")\n",
    "print(list(df))\n",
    "print(\"Missing Value Counts: ---------------------------------\")\n",
    "print(df.isnull().sum())\n",
    "print(\"Unique Value Counts-: ---------------------------------\")\n",
    "print(df.nunique())\n",
    "print(\"-------------------------------------------------------\")"
   ]
  },
  {
   "cell_type": "markdown",
   "metadata": {},
   "source": [
    "***\n",
    "## Save working map file"
   ]
  },
  {
   "cell_type": "code",
   "execution_count": 13,
   "metadata": {},
   "outputs": [],
   "source": [
    "df.to_csv(\"MH_harmonization_map_6_Fuzzy.csv\", header=True, index=False)  "
   ]
  },
  {
   "cell_type": "markdown",
   "metadata": {},
   "source": [
    "## Create Dataset for second round of expert annotation that includes only rows with quality codes of 5 or 6\n",
    "At this point we have completed a first wave of manual annotation, using individuals that may not be terminology experts. Thus now we focus on the remaining rows in the dataset with a term mapping quality code of 5(low confidence fuzzy match), or 6(no match yet found). This subset of data is then handed off to an expert for review to either confirm 5's as being more confident fuzzy matches (code 4), or try and identify as many matches for terms with a code 6 as possible. "
   ]
  },
  {
   "cell_type": "code",
   "execution_count": 14,
   "metadata": {},
   "outputs": [
    {
     "name": "stdout",
     "output_type": "stream",
     "text": [
      "Dataset Dimensions: -----------------------------------\n",
      "(2183, 29)\n",
      "Header: -----------------------------------\n",
      "['Effort_Split', 'ROW_INDEX', 'MHTERM', 'FZMatch_1_MHTERM', 'FZMatch_2_MHTERM', 'FZMatch_3_MHTERM', 'FZMatch_4_MHTERM', 'FZMatch_5_MHTERM', 'FZMatch_Choice_ID_MHTERM', 'FZMatch_Copied_Term', 'LLT_map_code', 'MHMODIFY', 'FZMatch_1_MHMODIFY', 'FZMatch_2_MHMODIFY', 'FZMatch_3_MHMODIFY', 'FZMatch_4_MHMODIFY', 'FZMatch_5_MHMODIFY', 'LLT_NAME', 'FZMatch_1_LLT_NAME', 'FZMatch_2_LLT_NAME', 'FZMatch_3_LLT_NAME', 'FZMatch_4_LLT_NAME', 'FZMatch_5_LLT_NAME', 'PT_NAME', 'HLT_NAME', 'HLGT_NAME', 'SOC_NAME', 'T_LLT', 'T_LLT_CODE']\n",
      "Missing Value Counts: ---------------------------------\n",
      "Effort_Split                   0\n",
      "ROW_INDEX                      0\n",
      "MHTERM                         0\n",
      "FZMatch_1_MHTERM               0\n",
      "FZMatch_2_MHTERM               0\n",
      "FZMatch_3_MHTERM               0\n",
      "FZMatch_4_MHTERM               0\n",
      "FZMatch_5_MHTERM               0\n",
      "FZMatch_Choice_ID_MHTERM    1369\n",
      "FZMatch_Copied_Term         1613\n",
      "LLT_map_code                   0\n",
      "MHMODIFY                    1573\n",
      "FZMatch_1_MHMODIFY          1573\n",
      "FZMatch_2_MHMODIFY          1573\n",
      "FZMatch_3_MHMODIFY          1573\n",
      "FZMatch_4_MHMODIFY          1573\n",
      "FZMatch_5_MHMODIFY          1573\n",
      "LLT_NAME                    2013\n",
      "FZMatch_1_LLT_NAME          2013\n",
      "FZMatch_2_LLT_NAME          2013\n",
      "FZMatch_3_LLT_NAME          2013\n",
      "FZMatch_4_LLT_NAME          2013\n",
      "FZMatch_5_LLT_NAME          2013\n",
      "PT_NAME                     2013\n",
      "HLT_NAME                    2049\n",
      "HLGT_NAME                   2049\n",
      "SOC_NAME                     573\n",
      "T_LLT                       2183\n",
      "T_LLT_CODE                  2183\n",
      "dtype: int64\n",
      "Unique Value Counts-: ---------------------------------\n",
      "Effort_Split                2183\n",
      "ROW_INDEX                   2183\n",
      "MHTERM                      2105\n",
      "FZMatch_1_MHTERM             970\n",
      "FZMatch_2_MHTERM            1108\n",
      "FZMatch_3_MHTERM            1209\n",
      "FZMatch_4_MHTERM            1256\n",
      "FZMatch_5_MHTERM            1323\n",
      "FZMatch_Choice_ID_MHTERM       5\n",
      "FZMatch_Copied_Term          378\n",
      "LLT_map_code                   2\n",
      "MHMODIFY                     609\n",
      "FZMatch_1_MHMODIFY           395\n",
      "FZMatch_2_MHMODIFY           430\n",
      "FZMatch_3_MHMODIFY           451\n",
      "FZMatch_4_MHMODIFY           468\n",
      "FZMatch_5_MHMODIFY           480\n",
      "LLT_NAME                      69\n",
      "FZMatch_1_LLT_NAME            64\n",
      "FZMatch_2_LLT_NAME            62\n",
      "FZMatch_3_LLT_NAME            58\n",
      "FZMatch_4_LLT_NAME            59\n",
      "FZMatch_5_LLT_NAME            61\n",
      "PT_NAME                       61\n",
      "HLT_NAME                      38\n",
      "HLGT_NAME                     33\n",
      "SOC_NAME                      63\n",
      "T_LLT                          0\n",
      "T_LLT_CODE                     0\n",
      "dtype: int64\n",
      "-------------------------------------------------------\n"
     ]
    }
   ],
   "source": [
    "some_values = [5,6]\n",
    "df2 = df.loc[df[TL1_qual_code_header].isin(some_values)]\n",
    "\n",
    "#Basic info\n",
    "print(\"Dataset Dimensions: -----------------------------------\")\n",
    "print(df2.shape)\n",
    "print(\"Header: -----------------------------------\")\n",
    "print(list(df2))\n",
    "print(\"Missing Value Counts: ---------------------------------\")\n",
    "print(df2.isnull().sum())\n",
    "print(\"Unique Value Counts-: ---------------------------------\")\n",
    "print(df2.nunique())\n",
    "print(\"-------------------------------------------------------\")"
   ]
  },
  {
   "cell_type": "markdown",
   "metadata": {},
   "source": [
    "## Save filtered map file"
   ]
  },
  {
   "cell_type": "code",
   "execution_count": 15,
   "metadata": {},
   "outputs": [],
   "source": [
    "df2.to_csv(\"MH_harmonization_map_6_Fuzzy_SecondRound.csv\", header=True, index=False)  "
   ]
  },
  {
   "cell_type": "markdown",
   "metadata": {},
   "source": [
    "## QC the second round of expert annotation (to resolve codes 5 and 6) \n",
    "- Had previously created a combined map, that still included 5's and 6's.  \n",
    "\n",
    "- Want to check the annotated data for quality using same strategy as above - fix any errors\n",
    "- Want to integrate the new encodings into that original standard. \n",
    "\n",
    "Run this QC and fix any issues manually in the file until the QC proceedure passes. "
   ]
  },
  {
   "cell_type": "code",
   "execution_count": 16,
   "metadata": {},
   "outputs": [
    {
     "name": "stdout",
     "output_type": "stream",
     "text": [
      "Dataset Dimensions: -----------------------------------\n",
      "(2183, 29)\n",
      "Header: -----------------------------------\n",
      "['Effort_Split', 'ROW_INDEX', 'MHTERM', 'FZMatch_1_MHTERM', 'FZMatch_2_MHTERM', 'FZMatch_3_MHTERM', 'FZMatch_4_MHTERM', 'FZMatch_5_MHTERM', 'FZMatch_Choice_ID_MHTERM', 'FZMatch_Copied_Term', 'LLT_map_code', 'MHMODIFY', 'FZMatch_1_MHMODIFY', 'FZMatch_2_MHMODIFY', 'FZMatch_3_MHMODIFY', 'FZMatch_4_MHMODIFY', 'FZMatch_5_MHMODIFY', 'LLT_NAME', 'FZMatch_1_LLT_NAME', 'FZMatch_2_LLT_NAME', 'FZMatch_3_LLT_NAME', 'FZMatch_4_LLT_NAME', 'FZMatch_5_LLT_NAME', 'PT_NAME', 'HLT_NAME', 'HLGT_NAME', 'SOC_NAME', 'T_LLT', 'T_LLT_CODE']\n",
      "Missing Value Counts: ---------------------------------\n",
      "Effort_Split                   0\n",
      "ROW_INDEX                      0\n",
      "MHTERM                         0\n",
      "FZMatch_1_MHTERM               0\n",
      "FZMatch_2_MHTERM               0\n",
      "FZMatch_3_MHTERM               0\n",
      "FZMatch_4_MHTERM               0\n",
      "FZMatch_5_MHTERM               0\n",
      "FZMatch_Choice_ID_MHTERM    1586\n",
      "FZMatch_Copied_Term          626\n",
      "LLT_map_code                   0\n",
      "MHMODIFY                    1573\n",
      "FZMatch_1_MHMODIFY          1573\n",
      "FZMatch_2_MHMODIFY          1573\n",
      "FZMatch_3_MHMODIFY          1573\n",
      "FZMatch_4_MHMODIFY          1573\n",
      "FZMatch_5_MHMODIFY          1573\n",
      "LLT_NAME                    2013\n",
      "FZMatch_1_LLT_NAME          2013\n",
      "FZMatch_2_LLT_NAME          2013\n",
      "FZMatch_3_LLT_NAME          2013\n",
      "FZMatch_4_LLT_NAME          2013\n",
      "FZMatch_5_LLT_NAME          2013\n",
      "PT_NAME                     2013\n",
      "HLT_NAME                    2049\n",
      "HLGT_NAME                   2049\n",
      "SOC_NAME                     573\n",
      "T_LLT                       2183\n",
      "T_LLT_CODE                  2183\n",
      "dtype: int64\n",
      "Unique Value Counts-: ---------------------------------\n",
      "Effort_Split                2183\n",
      "ROW_INDEX                   2183\n",
      "MHTERM                      2105\n",
      "FZMatch_1_MHTERM             970\n",
      "FZMatch_2_MHTERM            1108\n",
      "FZMatch_3_MHTERM            1209\n",
      "FZMatch_4_MHTERM            1256\n",
      "FZMatch_5_MHTERM            1323\n",
      "FZMatch_Choice_ID_MHTERM       5\n",
      "FZMatch_Copied_Term          762\n",
      "LLT_map_code                   3\n",
      "MHMODIFY                     609\n",
      "FZMatch_1_MHMODIFY           395\n",
      "FZMatch_2_MHMODIFY           430\n",
      "FZMatch_3_MHMODIFY           451\n",
      "FZMatch_4_MHMODIFY           468\n",
      "FZMatch_5_MHMODIFY           480\n",
      "LLT_NAME                      69\n",
      "FZMatch_1_LLT_NAME            64\n",
      "FZMatch_2_LLT_NAME            62\n",
      "FZMatch_3_LLT_NAME            58\n",
      "FZMatch_4_LLT_NAME            59\n",
      "FZMatch_5_LLT_NAME            61\n",
      "PT_NAME                       61\n",
      "HLT_NAME                      38\n",
      "HLGT_NAME                     33\n",
      "SOC_NAME                      63\n",
      "T_LLT                          0\n",
      "T_LLT_CODE                     0\n",
      "dtype: int64\n",
      "-------------------------------------------------------\n",
      "MatchChoiceID column confirmed.\n",
      "CopiedTerm column confirmed.\n",
      "MapCode column confirmed.\n",
      "ConditionalCheck column confirmed.\n"
     ]
    }
   ],
   "source": [
    "data_remaining = 'Manual_Term_Assignments/MH_harmonization_map_6_Fuzzy_SecondRound_NAN.xlsx'\n",
    "\n",
    "open_QC_split(data_remaining)"
   ]
  },
  {
   "cell_type": "markdown",
   "metadata": {},
   "source": [
    "## Reintegrate second round of fuzzy mannual annotation with first pass fuzzy annotation\n",
    "   - take first pass annoatation file ('MH_harmonization_map_6_Fuzzy.csv') and remove all rows with 5's or 6's\n",
    "   - add in newly annotated rows from round 2. \n",
    "   - remove a row called 'effort split' that was used to split up the fuzzy matching file for manual anotation. "
   ]
  },
  {
   "cell_type": "code",
   "execution_count": 17,
   "metadata": {},
   "outputs": [
    {
     "data": {
      "text/plain": [
       "(7115, 29)"
      ]
     },
     "execution_count": 17,
     "metadata": {},
     "output_type": "execute_result"
    },
    {
     "data": {
      "text/plain": [
       "(4932, 29)"
      ]
     },
     "execution_count": 17,
     "metadata": {},
     "output_type": "execute_result"
    },
    {
     "data": {
      "text/plain": [
       "(7115, 29)"
      ]
     },
     "execution_count": 17,
     "metadata": {},
     "output_type": "execute_result"
    },
    {
     "name": "stdout",
     "output_type": "stream",
     "text": [
      "Missing Value Counts: ---------------------------------\n",
      "Effort_Split                   0\n",
      "ROW_INDEX                      0\n",
      "MHTERM                         0\n",
      "FZMatch_1_MHTERM               0\n",
      "FZMatch_2_MHTERM               0\n",
      "FZMatch_3_MHTERM               0\n",
      "FZMatch_4_MHTERM               0\n",
      "FZMatch_5_MHTERM               0\n",
      "FZMatch_Choice_ID_MHTERM    2513\n",
      "FZMatch_Copied_Term         4632\n",
      "LLT_map_code                   0\n",
      "MHMODIFY                    4832\n",
      "FZMatch_1_MHMODIFY          4832\n",
      "FZMatch_2_MHMODIFY          4832\n",
      "FZMatch_3_MHMODIFY          4832\n",
      "FZMatch_4_MHMODIFY          4832\n",
      "FZMatch_5_MHMODIFY          4832\n",
      "LLT_NAME                    6793\n",
      "FZMatch_1_LLT_NAME          6793\n",
      "FZMatch_2_LLT_NAME          6793\n",
      "FZMatch_3_LLT_NAME          6793\n",
      "FZMatch_4_LLT_NAME          6793\n",
      "FZMatch_5_LLT_NAME          6793\n",
      "PT_NAME                     6792\n",
      "HLT_NAME                    6832\n",
      "HLGT_NAME                   6832\n",
      "SOC_NAME                    2248\n",
      "T_LLT                       7115\n",
      "T_LLT_CODE                  7115\n",
      "dtype: int64\n",
      "Unique Value Counts-: ---------------------------------\n",
      "Effort_Split                7115\n",
      "ROW_INDEX                   7115\n",
      "MHTERM                      6835\n",
      "FZMatch_1_MHTERM            2257\n",
      "FZMatch_2_MHTERM            2485\n",
      "FZMatch_3_MHTERM            2585\n",
      "FZMatch_4_MHTERM            2728\n",
      "FZMatch_5_MHTERM            2919\n",
      "FZMatch_Choice_ID_MHTERM       5\n",
      "FZMatch_Copied_Term         1130\n",
      "LLT_map_code                   3\n",
      "MHMODIFY                    2280\n",
      "FZMatch_1_MHMODIFY          1085\n",
      "FZMatch_2_MHMODIFY          1139\n",
      "FZMatch_3_MHMODIFY          1182\n",
      "FZMatch_4_MHMODIFY          1245\n",
      "FZMatch_5_MHMODIFY          1297\n",
      "LLT_NAME                     110\n",
      "FZMatch_1_LLT_NAME           105\n",
      "FZMatch_2_LLT_NAME            96\n",
      "FZMatch_3_LLT_NAME            91\n",
      "FZMatch_4_LLT_NAME            92\n",
      "FZMatch_5_LLT_NAME            93\n",
      "PT_NAME                       90\n",
      "HLT_NAME                      62\n",
      "HLGT_NAME                     47\n",
      "SOC_NAME                      91\n",
      "T_LLT                          0\n",
      "T_LLT_CODE                     0\n",
      "dtype: int64\n",
      "-------------------------------------------------------\n"
     ]
    },
    {
     "data": {
      "text/plain": [
       "(7115, 28)"
      ]
     },
     "execution_count": 17,
     "metadata": {},
     "output_type": "execute_result"
    }
   ],
   "source": [
    "#Load entire dataset from itegrated first pass of mannual annotation\n",
    "data = 'MH_harmonization_map_6_Fuzzy.csv'\n",
    "df = pd.read_csv(data, na_values=' ')\n",
    "df.shape\n",
    "\n",
    "#Load second round annotation dataset\n",
    "data_remaining = 'Manual_Term_Assignments/MH_harmonization_map_6_Fuzzy_SecondRound_NAN.xlsx'\n",
    "dr = pd.read_excel(data_remaining, sep='\\t',na_values=' ')\n",
    "\n",
    "#Remove all rows from entire dataset with a code of 5 or 6 (these will be replaced by the rows from the second round annotation dataset)\n",
    "some_values = [4]\n",
    "df2 = df.loc[df[TL1_qual_code_header].isin(some_values)]\n",
    "df2.shape\n",
    "\n",
    "#combine the two, non-overlapping, manually annotated datasets\n",
    "frames = [df2, dr]\n",
    "\n",
    "df3 = pd.concat(frames)\n",
    "df3.shape\n",
    "#Basic info\n",
    "print(\"Missing Value Counts: ---------------------------------\")\n",
    "print(df3.isnull().sum())\n",
    "print(\"Unique Value Counts-: ---------------------------------\")\n",
    "print(df3.nunique())\n",
    "print(\"-------------------------------------------------------\")\n",
    "\n",
    "#Drop 'Effort_Split' column\n",
    "df3 = df3.drop(['Effort_Split'], axis=1)\n",
    "df3.shape\n",
    "\n",
    "df3.to_csv(\"MH_harmonization_map_7_Fuzzy.csv\", header=True, index=False)  "
   ]
  },
  {
   "cell_type": "markdown",
   "metadata": {},
   "source": [
    "*Application Note: at this point we manually returned some of the columns of 'MH_harmonization_map_7_Fuzzy' back to their original position to properly allign with 'MH_harmonization_map_5_manual_formated' so that we can easily merge the two files.* "
   ]
  },
  {
   "cell_type": "markdown",
   "metadata": {},
   "source": [
    "## Reintegrate final fuzzy matching file with original file that included exact matches.\n",
    "   - take pre-fuzzy matching file ('MH_harmonization_map_5_manual_formated.xlsx') and keep only rows with an exact match code\n",
    "   - add the fuzzy matching rows from ('MH_harmonization_map_7_Fuzzy_Mod.csv') that now includes any rows that received a code of 4, 5, or 6"
   ]
  },
  {
   "cell_type": "code",
   "execution_count": 18,
   "metadata": {},
   "outputs": [
    {
     "data": {
      "text/plain": [
       "(7115, 28)"
      ]
     },
     "execution_count": 18,
     "metadata": {},
     "output_type": "execute_result"
    },
    {
     "data": {
      "text/plain": [
       "(21605, 28)"
      ]
     },
     "execution_count": 18,
     "metadata": {},
     "output_type": "execute_result"
    },
    {
     "data": {
      "text/plain": [
       "(28720, 28)"
      ]
     },
     "execution_count": 18,
     "metadata": {},
     "output_type": "execute_result"
    }
   ],
   "source": [
    "#Load the 'MH_harmonization_map_7_Fuzzy_Mod' file (with the columns put back into their original order)\n",
    "data_mod = 'MH_harmonization_map_7_Fuzzy_Mod.csv'\n",
    "df4 = pd.read_csv(data_mod, na_values=' ')\n",
    "df4.shape\n",
    "\n",
    "#Load entire dataset from original exact matching\n",
    "data_exact = 'MH_harmonization_map_5_manual_formated.xlsx'\n",
    "de = pd.read_excel(data_exact, sep='\\t',na_values=' ')\n",
    "\n",
    "#Remove all rows from entire dataset with a code of 4, 5 or 6 (these will be replaced by the rows from the second round annotation dataset)\n",
    "some_values = [0,1,2,3]\n",
    "de2 = de.loc[de[TL1_qual_code_header].isin(some_values)]\n",
    "de2.shape\n",
    "\n",
    "#combine the two, non-overlapping, manually annotated datasets\n",
    "frames = [de2, df4]\n",
    "\n",
    "df5 = pd.concat(frames)\n",
    "df5.shape\n"
   ]
  },
  {
   "cell_type": "markdown",
   "metadata": {},
   "source": [
    "## Save file with exact match data + fuzzy match data"
   ]
  },
  {
   "cell_type": "code",
   "execution_count": 19,
   "metadata": {},
   "outputs": [],
   "source": [
    "df5.to_csv(\"MH_harmonization_map_8_Combo.csv\", header=True, index=False)  "
   ]
  },
  {
   "cell_type": "markdown",
   "metadata": {},
   "source": [
    "## Finish mapping T_LLT and corresponding code for all fuzzy match rows\n",
    "Now that the datasets have been integrated we need to complete the mapping so that all rows with successful fuzzy matching now specifies the mapped LLT to the 'T_LLT' column, as well as the coresponding MedDRA code to 'T_LLT_CODE' (this has already been completed for all term rows with an exact match)."
   ]
  },
  {
   "cell_type": "code",
   "execution_count": 28,
   "metadata": {},
   "outputs": [
    {
     "data": {
      "text/plain": [
       "(28720, 28)"
      ]
     },
     "execution_count": 28,
     "metadata": {},
     "output_type": "execute_result"
    },
    {
     "data": {
      "application/vnd.jupyter.widget-view+json": {
       "model_id": "705046133f6548aba0f22d9e0be83f5f",
       "version_major": 2,
       "version_minor": 0
      },
      "text/plain": [
       "HBox(children=(IntProgress(value=0, description='1st loop', max=28720, style=ProgressStyle(description_width='…"
      ]
     },
     "metadata": {},
     "output_type": "display_data"
    },
    {
     "name": "stderr",
     "output_type": "stream",
     "text": [
      "C:\\Anaconda3\\lib\\site-packages\\ipykernel_launcher.py:17: SettingWithCopyWarning: \n",
      "A value is trying to be set on a copy of a slice from a DataFrame\n",
      "\n",
      "See the caveats in the documentation: http://pandas.pydata.org/pandas-docs/stable/indexing.html#indexing-view-versus-copy\n",
      "C:\\Anaconda3\\lib\\site-packages\\ipykernel_launcher.py:19: SettingWithCopyWarning: \n",
      "A value is trying to be set on a copy of a slice from a DataFrame\n",
      "\n",
      "See the caveats in the documentation: http://pandas.pydata.org/pandas-docs/stable/indexing.html#indexing-view-versus-copy\n",
      "C:\\Anaconda3\\lib\\site-packages\\ipykernel_launcher.py:21: SettingWithCopyWarning: \n",
      "A value is trying to be set on a copy of a slice from a DataFrame\n",
      "\n",
      "See the caveats in the documentation: http://pandas.pydata.org/pandas-docs/stable/indexing.html#indexing-view-versus-copy\n",
      "C:\\Anaconda3\\lib\\site-packages\\ipykernel_launcher.py:23: SettingWithCopyWarning: \n",
      "A value is trying to be set on a copy of a slice from a DataFrame\n",
      "\n",
      "See the caveats in the documentation: http://pandas.pydata.org/pandas-docs/stable/indexing.html#indexing-view-versus-copy\n",
      "C:\\Anaconda3\\lib\\site-packages\\ipykernel_launcher.py:12: SettingWithCopyWarning: \n",
      "A value is trying to be set on a copy of a slice from a DataFrame\n",
      "\n",
      "See the caveats in the documentation: http://pandas.pydata.org/pandas-docs/stable/indexing.html#indexing-view-versus-copy\n",
      "  if sys.path[0] == '':\n",
      "C:\\Anaconda3\\lib\\site-packages\\ipykernel_launcher.py:25: SettingWithCopyWarning: \n",
      "A value is trying to be set on a copy of a slice from a DataFrame\n",
      "\n",
      "See the caveats in the documentation: http://pandas.pydata.org/pandas-docs/stable/indexing.html#indexing-view-versus-copy\n"
     ]
    },
    {
     "name": "stdout",
     "output_type": "stream",
     "text": [
      "Missing Value Counts: ---------------------------------\n",
      "ROW_INDEX                       0\n",
      "MHTERM                          0\n",
      "FZMatch_1_MHTERM            21605\n",
      "FZMatch_2_MHTERM            21605\n",
      "FZMatch_3_MHTERM            21605\n",
      "FZMatch_4_MHTERM            21605\n",
      "FZMatch_5_MHTERM            21605\n",
      "FZMatch_Choice_ID_MHTERM    24118\n",
      "FZMatch_Copied_Term         26237\n",
      "LLT_map_code                    0\n",
      "LLT_NAME                    10881\n",
      "FZMatch_1_LLT_NAME          28398\n",
      "FZMatch_2_LLT_NAME          28398\n",
      "FZMatch_3_LLT_NAME          28398\n",
      "FZMatch_4_LLT_NAME          28398\n",
      "FZMatch_5_LLT_NAME          28398\n",
      "MHMODIFY                    11783\n",
      "FZMatch_1_MHMODIFY          26437\n",
      "FZMatch_2_MHMODIFY          26437\n",
      "FZMatch_3_MHMODIFY          26437\n",
      "FZMatch_4_MHMODIFY          26437\n",
      "FZMatch_5_MHMODIFY          26437\n",
      "PT_NAME                     14485\n",
      "HLT_NAME                    13178\n",
      "HLGT_NAME                   13178\n",
      "SOC_NAME                     3359\n",
      "T_LLT                          30\n",
      "T_LLT_CODE                   7115\n",
      "dtype: int64\n",
      "Unique Value Counts-: ---------------------------------\n",
      "ROW_INDEX                   28720\n",
      "MHTERM                      21451\n",
      "FZMatch_1_MHTERM             2257\n",
      "FZMatch_2_MHTERM             2485\n",
      "FZMatch_3_MHTERM             2585\n",
      "FZMatch_4_MHTERM             2728\n",
      "FZMatch_5_MHTERM             2919\n",
      "FZMatch_Choice_ID_MHTERM        5\n",
      "FZMatch_Copied_Term          1130\n",
      "LLT_map_code                    7\n",
      "LLT_NAME                     6386\n",
      "FZMatch_1_LLT_NAME            105\n",
      "FZMatch_2_LLT_NAME             96\n",
      "FZMatch_3_LLT_NAME             91\n",
      "FZMatch_4_LLT_NAME             92\n",
      "FZMatch_5_LLT_NAME             93\n",
      "MHMODIFY                    10482\n",
      "FZMatch_1_MHMODIFY           1085\n",
      "FZMatch_2_MHMODIFY           1139\n",
      "FZMatch_3_MHMODIFY           1182\n",
      "FZMatch_4_MHMODIFY           1245\n",
      "FZMatch_5_MHMODIFY           1297\n",
      "PT_NAME                      2662\n",
      "HLT_NAME                     1520\n",
      "HLGT_NAME                     529\n",
      "SOC_NAME                      139\n",
      "T_LLT                        6250\n",
      "T_LLT_CODE                   5375\n",
      "dtype: int64\n",
      "-------------------------------------------------------\n"
     ]
    },
    {
     "data": {
      "application/vnd.jupyter.widget-view+json": {
       "model_id": "dab35f5ec7454bc3b04b06913af6eefe",
       "version_major": 2,
       "version_minor": 0
      },
      "text/plain": [
       "HBox(children=(IntProgress(value=0, description='1st loop', max=28720, style=ProgressStyle(description_width='…"
      ]
     },
     "metadata": {},
     "output_type": "display_data"
    },
    {
     "name": "stderr",
     "output_type": "stream",
     "text": [
      "C:\\Anaconda3\\lib\\site-packages\\ipykernel_launcher.py:47: SettingWithCopyWarning: \n",
      "A value is trying to be set on a copy of a slice from a DataFrame\n",
      "\n",
      "See the caveats in the documentation: http://pandas.pydata.org/pandas-docs/stable/indexing.html#indexing-view-versus-copy\n"
     ]
    },
    {
     "name": "stdout",
     "output_type": "stream",
     "text": [
      "Missing Value Counts: ---------------------------------\n",
      "ROW_INDEX                       0\n",
      "MHTERM                          0\n",
      "FZMatch_1_MHTERM            21605\n",
      "FZMatch_2_MHTERM            21605\n",
      "FZMatch_3_MHTERM            21605\n",
      "FZMatch_4_MHTERM            21605\n",
      "FZMatch_5_MHTERM            21605\n",
      "FZMatch_Choice_ID_MHTERM    24118\n",
      "FZMatch_Copied_Term         26237\n",
      "LLT_map_code                    0\n",
      "LLT_NAME                    10881\n",
      "FZMatch_1_LLT_NAME          28398\n",
      "FZMatch_2_LLT_NAME          28398\n",
      "FZMatch_3_LLT_NAME          28398\n",
      "FZMatch_4_LLT_NAME          28398\n",
      "FZMatch_5_LLT_NAME          28398\n",
      "MHMODIFY                    11783\n",
      "FZMatch_1_MHMODIFY          26437\n",
      "FZMatch_2_MHMODIFY          26437\n",
      "FZMatch_3_MHMODIFY          26437\n",
      "FZMatch_4_MHMODIFY          26437\n",
      "FZMatch_5_MHMODIFY          26437\n",
      "PT_NAME                     14485\n",
      "HLT_NAME                    13178\n",
      "HLGT_NAME                   13178\n",
      "SOC_NAME                     3359\n",
      "T_LLT                          30\n",
      "T_LLT_CODE                     30\n",
      "dtype: int64\n",
      "Unique Value Counts-: ---------------------------------\n",
      "ROW_INDEX                   28720\n",
      "MHTERM                      21451\n",
      "FZMatch_1_MHTERM             2257\n",
      "FZMatch_2_MHTERM             2485\n",
      "FZMatch_3_MHTERM             2585\n",
      "FZMatch_4_MHTERM             2728\n",
      "FZMatch_5_MHTERM             2919\n",
      "FZMatch_Choice_ID_MHTERM        5\n",
      "FZMatch_Copied_Term          1130\n",
      "LLT_map_code                    7\n",
      "LLT_NAME                     6386\n",
      "FZMatch_1_LLT_NAME            105\n",
      "FZMatch_2_LLT_NAME             96\n",
      "FZMatch_3_LLT_NAME             91\n",
      "FZMatch_4_LLT_NAME             92\n",
      "FZMatch_5_LLT_NAME             93\n",
      "MHMODIFY                    10482\n",
      "FZMatch_1_MHMODIFY           1085\n",
      "FZMatch_2_MHMODIFY           1139\n",
      "FZMatch_3_MHMODIFY           1182\n",
      "FZMatch_4_MHMODIFY           1245\n",
      "FZMatch_5_MHMODIFY           1297\n",
      "PT_NAME                      2662\n",
      "HLT_NAME                     1520\n",
      "HLGT_NAME                     529\n",
      "SOC_NAME                      139\n",
      "T_LLT                        6250\n",
      "T_LLT_CODE                   6229\n",
      "dtype: int64\n",
      "-------------------------------------------------------\n"
     ]
    }
   ],
   "source": [
    "#Load second round annotation dataset\n",
    "data = 'MH_harmonization_map_8_Combo.csv'\n",
    "df6 = pd.read_csv(data, na_values=' ')\n",
    "df6.shape\n",
    "\n",
    "#Cycle through all rows with a missing mapped term\n",
    "count = 0\n",
    "for each in tqdm_notebook(df6[TL1_name_header], desc='1st loop'):\n",
    "    if pd.isna(each): #Check for missing value\n",
    "        #Check for manually specified term\n",
    "        if not pd.isna(df6[FZCT][count]):\n",
    "            df6[TL1_name_header][count] = df6[FZCT][count]\n",
    "            #print(df6['ROW_INDEX'][count])\n",
    "\n",
    "        elif not pd.isna(df6[FZMC][count]): #fuzzy match term indexes specified\n",
    "            if df6[FZMC][count] == 1:\n",
    "                df6[TL1_name_header][count] = df6[FZ1_FT1][count]\n",
    "            if df6[FZMC][count] == 2:\n",
    "                df6[TL1_name_header][count] = df6[FZ2_FT1][count]\n",
    "            if df6[FZMC][count] == 3:\n",
    "                df6[TL1_name_header][count] = df6[FZ3_FT1][count]\n",
    "            if df6[FZMC][count] == 4:\n",
    "                df6[TL1_name_header][count] = df6[FZ4_FT1][count]\n",
    "            if df6[FZMC][count] == 5:\n",
    "                df6[TL1_name_header][count] = df6[FZ5_FT1][count]\n",
    "        else:\n",
    "            pass\n",
    "    count += 1\n",
    "                \n",
    "print(\"Missing Value Counts: ---------------------------------\")\n",
    "print(df6.isnull().sum())\n",
    "print(\"Unique Value Counts-: ---------------------------------\")\n",
    "print(df6.nunique())\n",
    "print(\"-------------------------------------------------------\")\n",
    "\n",
    "#Identify and enter LLT term code\n",
    "count = 0\n",
    "for each in tqdm_notebook(df6[TL1_code_header], desc='1st loop'):\n",
    "    if pd.isna(each): #Check for missing value\n",
    "        \n",
    "        #Check for term availability\n",
    "        if not pd.isna(df6[TL1_name_header][count]):\n",
    "            #Look up term: Check each term of the level 1 term standard. \n",
    "            term_count = 0\n",
    "            for term in tl1[ont_DL1_name_col]: # the column name reference is specific to the loaded MedDRA LLT file\n",
    "                if str(term).casefold() == str(df6[TL1_name_header][count]).casefold(): #Check for PRT exact match\n",
    "                    df6[TL1_code_header][count] = tl1.at[term_count,ont_DL1_code_col] # Map matching term code, the column name reference is specific to the loaded MedDRA LLT file\n",
    "                    break\n",
    "\n",
    "                term_count +=1\n",
    "            \n",
    "    count += 1\n",
    "\n",
    "print(\"Missing Value Counts: ---------------------------------\")\n",
    "print(df6.isnull().sum())\n",
    "print(\"Unique Value Counts-: ---------------------------------\")\n",
    "print(df6.nunique())\n",
    "print(\"-------------------------------------------------------\")\n",
    "\n",
    "df6.to_csv(\"MH_harmonization_map_9_Final.csv\", header=True, index=False)  "
   ]
  },
  {
   "cell_type": "markdown",
   "metadata": {},
   "source": [
    "## Final QC check and report\n",
    "- check that all LLT's are in MedDRA and current\n",
    "- report summary of quality codes over all rows\n",
    "- final report of missingness and data types. "
   ]
  },
  {
   "cell_type": "code",
   "execution_count": 31,
   "metadata": {},
   "outputs": [
    {
     "data": {
      "text/plain": [
       "(28720, 28)"
      ]
     },
     "execution_count": 31,
     "metadata": {},
     "output_type": "execute_result"
    },
    {
     "data": {
      "text/plain": [
       "2.0    13357\n",
       "4.0     7072\n",
       "0.0     3922\n",
       "1.0     3190\n",
       "3.0     1136\n",
       "6.0       29\n",
       "5.0       14\n",
       "Name: LLT_map_code, dtype: int64"
      ]
     },
     "execution_count": 31,
     "metadata": {},
     "output_type": "execute_result"
    },
    {
     "name": "stdout",
     "output_type": "stream",
     "text": [
      "Missing Value Counts: ---------------------------------\n",
      "ROW_INDEX                       0\n",
      "MHTERM                          0\n",
      "FZMatch_1_MHTERM            21605\n",
      "FZMatch_2_MHTERM            21605\n",
      "FZMatch_3_MHTERM            21605\n",
      "FZMatch_4_MHTERM            21605\n",
      "FZMatch_5_MHTERM            21605\n",
      "FZMatch_Choice_ID_MHTERM    24118\n",
      "FZMatch_Copied_Term         26237\n",
      "LLT_map_code                    0\n",
      "LLT_NAME                    10881\n",
      "FZMatch_1_LLT_NAME          28398\n",
      "FZMatch_2_LLT_NAME          28398\n",
      "FZMatch_3_LLT_NAME          28398\n",
      "FZMatch_4_LLT_NAME          28398\n",
      "FZMatch_5_LLT_NAME          28398\n",
      "MHMODIFY                    11783\n",
      "FZMatch_1_MHMODIFY          26437\n",
      "FZMatch_2_MHMODIFY          26437\n",
      "FZMatch_3_MHMODIFY          26437\n",
      "FZMatch_4_MHMODIFY          26437\n",
      "FZMatch_5_MHMODIFY          26437\n",
      "PT_NAME                     14485\n",
      "HLT_NAME                    13178\n",
      "HLGT_NAME                   13178\n",
      "SOC_NAME                     3359\n",
      "T_LLT                          30\n",
      "T_LLT_CODE                     30\n",
      "dtype: int64\n",
      "Unique Value Counts-: ---------------------------------\n",
      "ROW_INDEX                   28720\n",
      "MHTERM                      21451\n",
      "FZMatch_1_MHTERM             2257\n",
      "FZMatch_2_MHTERM             2485\n",
      "FZMatch_3_MHTERM             2585\n",
      "FZMatch_4_MHTERM             2728\n",
      "FZMatch_5_MHTERM             2919\n",
      "FZMatch_Choice_ID_MHTERM        5\n",
      "FZMatch_Copied_Term          1130\n",
      "LLT_map_code                    7\n",
      "LLT_NAME                     6386\n",
      "FZMatch_1_LLT_NAME            105\n",
      "FZMatch_2_LLT_NAME             96\n",
      "FZMatch_3_LLT_NAME             91\n",
      "FZMatch_4_LLT_NAME             92\n",
      "FZMatch_5_LLT_NAME             93\n",
      "MHMODIFY                    10482\n",
      "FZMatch_1_MHMODIFY           1085\n",
      "FZMatch_2_MHMODIFY           1139\n",
      "FZMatch_3_MHMODIFY           1182\n",
      "FZMatch_4_MHMODIFY           1245\n",
      "FZMatch_5_MHMODIFY           1297\n",
      "PT_NAME                      2662\n",
      "HLT_NAME                     1520\n",
      "HLGT_NAME                     529\n",
      "SOC_NAME                      139\n",
      "T_LLT                        6250\n",
      "T_LLT_CODE                   6229\n",
      "dtype: int64\n",
      "-------------------------------------------------------\n"
     ]
    }
   ],
   "source": [
    "#Load second round annotation dataset\n",
    "data = 'MH_harmonization_map_9_Final.csv'\n",
    "df7 = pd.read_csv(data, na_values=' ')\n",
    "df7.shape\n",
    "\n",
    "df7[TL1_qual_code_header].value_counts()\n",
    "\n",
    "print(\"Missing Value Counts: ---------------------------------\")\n",
    "print(df7.isnull().sum())\n",
    "print(\"Unique Value Counts-: ---------------------------------\")\n",
    "print(df7.nunique())\n",
    "print(\"-------------------------------------------------------\")\n"
   ]
  },
  {
   "cell_type": "markdown",
   "metadata": {},
   "source": [
    "## Notebook conclusions\n",
    "In this notebook we reintegrated the fuzzy matching mapping back with the exact matching mapping, and completed a global quality control check resulting in the following term mappings (by mapping quality code). Recall that codes 0-3 are exact matches, and codes 4 and 5 are fuzzy matches, and code 6 is unmapped. At this point the first stage of the term harmonization is complete.  We have successfully mapped the most specific 'patient reported terms from the datasets to the lowest level terms of our ontology (MedDRA). \n",
    "\n",
    "- 0.0     = 3922\n",
    "- 1.0     = 3190\n",
    "- 2.0    = 13357\n",
    "- 3.0    = 1136\n",
    "- 4.0     = 7072\n",
    "- 5.0       = 14\n",
    "- 6.0      = 29\n",
    "\n",
    "In the next notebook we shift to the next stage of this harmonization/mapping process, specifically the imputation of hierarchy of more general terms for each term row. This will include imputing (1) PT from LLT, (2) HLT from PT, (3) HLGT from HLT, and (4) SOC from HLGT given the hierarchical structure of the MedDRA ontology. "
   ]
  },
  {
   "cell_type": "code",
   "execution_count": null,
   "metadata": {},
   "outputs": [],
   "source": []
  }
 ],
 "metadata": {
  "kernelspec": {
   "display_name": "Python 3",
   "language": "python",
   "name": "python3"
  },
  "language_info": {
   "codemirror_mode": {
    "name": "ipython",
    "version": 3
   },
   "file_extension": ".py",
   "mimetype": "text/x-python",
   "name": "python",
   "nbconvert_exporter": "python",
   "pygments_lexer": "ipython3",
   "version": "3.8.5"
  }
 },
 "nbformat": 4,
 "nbformat_minor": 2
}
